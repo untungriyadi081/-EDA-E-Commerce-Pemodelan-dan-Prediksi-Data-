{
 "cells": [
  {
   "cell_type": "markdown",
   "id": "bb723889",
   "metadata": {
    "papermill": {
     "duration": 0.014851,
     "end_time": "2023-01-25T09:40:28.665041",
     "exception": false,
     "start_time": "2023-01-25T09:40:28.650190",
     "status": "completed"
    },
    "tags": []
   },
   "source": [
    "## **EDA E-Commerce, Pemodelan dan Prediksi Data**"
   ]
  },
  {
   "cell_type": "markdown",
   "id": "ebfd9e1a",
   "metadata": {
    "papermill": {
     "duration": 0.013139,
     "end_time": "2023-01-25T09:40:28.691811",
     "exception": false,
     "start_time": "2023-01-25T09:40:28.678672",
     "status": "completed"
    },
    "tags": []
   },
   "source": [
    "### Table of Contents\n",
    "\n",
    "* [Dataset Background](#dsb)\n",
    "* [Setting Up](#su)\n",
    "* [Importing Dataset](#ids)\n",
    "* [Data Processing](#dp)\n",
    "* [Exploratory Data Analysis](#eda)\n",
    "* [Recommendations](#r)\n"
   ]
  },
  {
   "cell_type": "markdown",
   "id": "9713fdca",
   "metadata": {
    "papermill": {
     "duration": 0.013333,
     "end_time": "2023-01-25T09:40:28.720212",
     "exception": false,
     "start_time": "2023-01-25T09:40:28.706879",
     "status": "completed"
    },
    "tags": []
   },
   "source": [
    "#### **Dataset Background** <a class=\"anchor\" id=\"dsb\"></a>"
   ]
  },
  {
   "cell_type": "markdown",
   "id": "13360700",
   "metadata": {
    "papermill": {
     "duration": 0.013104,
     "end_time": "2023-01-25T09:40:28.746761",
     "exception": false,
     "start_time": "2023-01-25T09:40:28.733657",
     "status": "completed"
    },
    "tags": []
   },
   "source": [
    "Ini adalah kumpulan data transnasional yang berisi semua transaksi yang terjadi antara 01/12/2010 dan 09/12/2011 untuk ritel online non-toko yang berbasis di Inggris dan terdaftar. Perusahaan ini terutama menjual hadiah unik untuk semua acara. Banyak pelanggan perusahaan adalah grosir.\n",
    "\n",
    "Attribute Information:\n",
    "\n",
    "* InvoiceNo: Invoice number. Nominal, a 6-digit integral number uniquely assigned to each transaction. If this code starts with letter 'c', it indicates a cancellation.\n",
    "* StockCode: Product (item) code. Nominal, a 5-digit integral number uniquely assigned to each distinct product.\n",
    "* Description: Product (item) name. Nominal.\n",
    "* Quantity: The quantities of each product (item) per transaction. Numeric.\n",
    "* InvoiceDate: Invice Date and time. Numeric, the day and time when each transaction was generated.\n",
    "* UnitPrice: Unit price. Numeric, Product price per unit in sterling.\n",
    "* CustomerID: Customer number. Nominal, a 5-digit integral number uniquely assigned to each customer.\n",
    "* Country: Country name. Nominal, the name of the country where each customer resides."
   ]
  },
  {
   "cell_type": "markdown",
   "id": "d8ce4ce1",
   "metadata": {
    "papermill": {
     "duration": 0.01324,
     "end_time": "2023-01-25T09:40:28.773547",
     "exception": false,
     "start_time": "2023-01-25T09:40:28.760307",
     "status": "completed"
    },
    "tags": []
   },
   "source": [
    "#### **Setting Up** <a class=\"anchor\" id=\"su\"></a>"
   ]
  },
  {
   "cell_type": "code",
   "execution_count": 1,
   "id": "09da7ab4",
   "metadata": {
    "_execution_state": "idle",
    "_uuid": "051d70d956493feee0c6d64651c6a088724dca2a",
    "execution": {
     "iopub.execute_input": "2023-01-25T09:40:28.806969Z",
     "iopub.status.busy": "2023-01-25T09:40:28.805998Z",
     "iopub.status.idle": "2023-01-25T09:40:29.895940Z",
     "shell.execute_reply": "2023-01-25T09:40:29.895040Z"
    },
    "papermill": {
     "duration": 1.109181,
     "end_time": "2023-01-25T09:40:29.898606",
     "exception": false,
     "start_time": "2023-01-25T09:40:28.789425",
     "status": "completed"
    },
    "scrolled": true,
    "tags": []
   },
   "outputs": [],
   "source": [
    "# First, we'll import the necessary libraries\n",
    "import pandas as pd\n",
    "import numpy as np\n",
    "import matplotlib.pyplot as plt\n",
    "import seaborn as sns\n",
    "\n",
    "import warnings\n",
    "warnings.simplefilter(action='ignore', category=FutureWarning)"
   ]
  },
  {
   "cell_type": "markdown",
   "id": "e8bcbae1",
   "metadata": {
    "papermill": {
     "duration": 0.013505,
     "end_time": "2023-01-25T09:40:29.925853",
     "exception": false,
     "start_time": "2023-01-25T09:40:29.912348",
     "status": "completed"
    },
    "tags": []
   },
   "source": [
    "#### **Importing Dataset** <a class=\"anchor\" id=\"ids\"></a>"
   ]
  },
  {
   "cell_type": "code",
   "execution_count": 2,
   "id": "538734f5",
   "metadata": {
    "execution": {
     "iopub.execute_input": "2023-01-25T09:40:29.954771Z",
     "iopub.status.busy": "2023-01-25T09:40:29.954362Z",
     "iopub.status.idle": "2023-01-25T09:40:31.256633Z",
     "shell.execute_reply": "2023-01-25T09:40:31.255740Z"
    },
    "papermill": {
     "duration": 1.319537,
     "end_time": "2023-01-25T09:40:31.259004",
     "exception": false,
     "start_time": "2023-01-25T09:40:29.939467",
     "status": "completed"
    },
    "scrolled": false,
    "tags": []
   },
   "outputs": [
    {
     "data": {
      "text/html": [
       "<div>\n",
       "<style scoped>\n",
       "    .dataframe tbody tr th:only-of-type {\n",
       "        vertical-align: middle;\n",
       "    }\n",
       "\n",
       "    .dataframe tbody tr th {\n",
       "        vertical-align: top;\n",
       "    }\n",
       "\n",
       "    .dataframe thead th {\n",
       "        text-align: right;\n",
       "    }\n",
       "</style>\n",
       "<table border=\"1\" class=\"dataframe\">\n",
       "  <thead>\n",
       "    <tr style=\"text-align: right;\">\n",
       "      <th></th>\n",
       "      <th>InvoiceNo</th>\n",
       "      <th>StockCode</th>\n",
       "      <th>Description</th>\n",
       "      <th>Quantity</th>\n",
       "      <th>InvoiceDate</th>\n",
       "      <th>UnitPrice</th>\n",
       "      <th>CustomerID</th>\n",
       "      <th>Country</th>\n",
       "    </tr>\n",
       "  </thead>\n",
       "  <tbody>\n",
       "    <tr>\n",
       "      <th>0</th>\n",
       "      <td>536365</td>\n",
       "      <td>85123A</td>\n",
       "      <td>WHITE HANGING HEART T-LIGHT HOLDER</td>\n",
       "      <td>6</td>\n",
       "      <td>12/1/2010 8:26</td>\n",
       "      <td>2.55</td>\n",
       "      <td>17850.0</td>\n",
       "      <td>United Kingdom</td>\n",
       "    </tr>\n",
       "    <tr>\n",
       "      <th>1</th>\n",
       "      <td>536365</td>\n",
       "      <td>71053</td>\n",
       "      <td>WHITE METAL LANTERN</td>\n",
       "      <td>6</td>\n",
       "      <td>12/1/2010 8:26</td>\n",
       "      <td>3.39</td>\n",
       "      <td>17850.0</td>\n",
       "      <td>United Kingdom</td>\n",
       "    </tr>\n",
       "    <tr>\n",
       "      <th>2</th>\n",
       "      <td>536365</td>\n",
       "      <td>84406B</td>\n",
       "      <td>CREAM CUPID HEARTS COAT HANGER</td>\n",
       "      <td>8</td>\n",
       "      <td>12/1/2010 8:26</td>\n",
       "      <td>2.75</td>\n",
       "      <td>17850.0</td>\n",
       "      <td>United Kingdom</td>\n",
       "    </tr>\n",
       "    <tr>\n",
       "      <th>3</th>\n",
       "      <td>536365</td>\n",
       "      <td>84029G</td>\n",
       "      <td>KNITTED UNION FLAG HOT WATER BOTTLE</td>\n",
       "      <td>6</td>\n",
       "      <td>12/1/2010 8:26</td>\n",
       "      <td>3.39</td>\n",
       "      <td>17850.0</td>\n",
       "      <td>United Kingdom</td>\n",
       "    </tr>\n",
       "    <tr>\n",
       "      <th>4</th>\n",
       "      <td>536365</td>\n",
       "      <td>84029E</td>\n",
       "      <td>RED WOOLLY HOTTIE WHITE HEART.</td>\n",
       "      <td>6</td>\n",
       "      <td>12/1/2010 8:26</td>\n",
       "      <td>3.39</td>\n",
       "      <td>17850.0</td>\n",
       "      <td>United Kingdom</td>\n",
       "    </tr>\n",
       "  </tbody>\n",
       "</table>\n",
       "</div>"
      ],
      "text/plain": [
       "  InvoiceNo StockCode                          Description  Quantity  \\\n",
       "0    536365    85123A   WHITE HANGING HEART T-LIGHT HOLDER         6   \n",
       "1    536365     71053                  WHITE METAL LANTERN         6   \n",
       "2    536365    84406B       CREAM CUPID HEARTS COAT HANGER         8   \n",
       "3    536365    84029G  KNITTED UNION FLAG HOT WATER BOTTLE         6   \n",
       "4    536365    84029E       RED WOOLLY HOTTIE WHITE HEART.         6   \n",
       "\n",
       "      InvoiceDate  UnitPrice  CustomerID         Country  \n",
       "0  12/1/2010 8:26       2.55     17850.0  United Kingdom  \n",
       "1  12/1/2010 8:26       3.39     17850.0  United Kingdom  \n",
       "2  12/1/2010 8:26       2.75     17850.0  United Kingdom  \n",
       "3  12/1/2010 8:26       3.39     17850.0  United Kingdom  \n",
       "4  12/1/2010 8:26       3.39     17850.0  United Kingdom  "
      ]
     },
     "execution_count": 2,
     "metadata": {},
     "output_type": "execute_result"
    }
   ],
   "source": [
    "# read in the dataset and preview the first few rows\n",
    "df = pd.read_csv('data.csv', encoding='latin1')\n",
    "df.head()"
   ]
  },
  {
   "cell_type": "markdown",
   "id": "bf36ae60",
   "metadata": {
    "papermill": {
     "duration": 0.013589,
     "end_time": "2023-01-25T09:40:31.286318",
     "exception": false,
     "start_time": "2023-01-25T09:40:31.272729",
     "status": "completed"
    },
    "tags": []
   },
   "source": [
    "#### **Data Processing** <a class=\"anchor\" id=\"dp\"></a>"
   ]
  },
  {
   "cell_type": "code",
   "execution_count": 3,
   "id": "1b04066a",
   "metadata": {
    "execution": {
     "iopub.execute_input": "2023-01-25T09:40:31.316551Z",
     "iopub.status.busy": "2023-01-25T09:40:31.315382Z",
     "iopub.status.idle": "2023-01-25T09:40:31.330067Z",
     "shell.execute_reply": "2023-01-25T09:40:31.329236Z"
    },
    "papermill": {
     "duration": 0.032801,
     "end_time": "2023-01-25T09:40:31.332739",
     "exception": false,
     "start_time": "2023-01-25T09:40:31.299938",
     "status": "completed"
    },
    "scrolled": true,
    "tags": []
   },
   "outputs": [],
   "source": [
    "# Mari buat kolom baru bernama 'TotalPrice' yang mewakili total harga untuk setiap transaksi\n",
    "df['TotalPrice'] = df['Quantity'] * df['UnitPrice']"
   ]
  },
  {
   "cell_type": "code",
   "execution_count": 4,
   "id": "a7c60530",
   "metadata": {
    "execution": {
     "iopub.execute_input": "2023-01-25T09:40:31.362401Z",
     "iopub.status.busy": "2023-01-25T09:40:31.361985Z",
     "iopub.status.idle": "2023-01-25T09:40:31.497809Z",
     "shell.execute_reply": "2023-01-25T09:40:31.496675Z"
    },
    "papermill": {
     "duration": 0.153464,
     "end_time": "2023-01-25T09:40:31.500064",
     "exception": false,
     "start_time": "2023-01-25T09:40:31.346600",
     "status": "completed"
    },
    "scrolled": true,
    "tags": []
   },
   "outputs": [
    {
     "data": {
      "text/html": [
       "<div>\n",
       "<style scoped>\n",
       "    .dataframe tbody tr th:only-of-type {\n",
       "        vertical-align: middle;\n",
       "    }\n",
       "\n",
       "    .dataframe tbody tr th {\n",
       "        vertical-align: top;\n",
       "    }\n",
       "\n",
       "    .dataframe thead th {\n",
       "        text-align: right;\n",
       "    }\n",
       "</style>\n",
       "<table border=\"1\" class=\"dataframe\">\n",
       "  <thead>\n",
       "    <tr style=\"text-align: right;\">\n",
       "      <th></th>\n",
       "      <th>Quantity</th>\n",
       "      <th>UnitPrice</th>\n",
       "      <th>CustomerID</th>\n",
       "      <th>TotalPrice</th>\n",
       "    </tr>\n",
       "  </thead>\n",
       "  <tbody>\n",
       "    <tr>\n",
       "      <th>count</th>\n",
       "      <td>541909.000000</td>\n",
       "      <td>541909.000000</td>\n",
       "      <td>406829.000000</td>\n",
       "      <td>541909.000000</td>\n",
       "    </tr>\n",
       "    <tr>\n",
       "      <th>mean</th>\n",
       "      <td>9.552250</td>\n",
       "      <td>4.611114</td>\n",
       "      <td>15287.690570</td>\n",
       "      <td>17.987795</td>\n",
       "    </tr>\n",
       "    <tr>\n",
       "      <th>std</th>\n",
       "      <td>218.081158</td>\n",
       "      <td>96.759853</td>\n",
       "      <td>1713.600303</td>\n",
       "      <td>378.810824</td>\n",
       "    </tr>\n",
       "    <tr>\n",
       "      <th>min</th>\n",
       "      <td>-80995.000000</td>\n",
       "      <td>-11062.060000</td>\n",
       "      <td>12346.000000</td>\n",
       "      <td>-168469.600000</td>\n",
       "    </tr>\n",
       "    <tr>\n",
       "      <th>25%</th>\n",
       "      <td>1.000000</td>\n",
       "      <td>1.250000</td>\n",
       "      <td>13953.000000</td>\n",
       "      <td>3.400000</td>\n",
       "    </tr>\n",
       "    <tr>\n",
       "      <th>50%</th>\n",
       "      <td>3.000000</td>\n",
       "      <td>2.080000</td>\n",
       "      <td>15152.000000</td>\n",
       "      <td>9.750000</td>\n",
       "    </tr>\n",
       "    <tr>\n",
       "      <th>75%</th>\n",
       "      <td>10.000000</td>\n",
       "      <td>4.130000</td>\n",
       "      <td>16791.000000</td>\n",
       "      <td>17.400000</td>\n",
       "    </tr>\n",
       "    <tr>\n",
       "      <th>max</th>\n",
       "      <td>80995.000000</td>\n",
       "      <td>38970.000000</td>\n",
       "      <td>18287.000000</td>\n",
       "      <td>168469.600000</td>\n",
       "    </tr>\n",
       "  </tbody>\n",
       "</table>\n",
       "</div>"
      ],
      "text/plain": [
       "            Quantity      UnitPrice     CustomerID     TotalPrice\n",
       "count  541909.000000  541909.000000  406829.000000  541909.000000\n",
       "mean        9.552250       4.611114   15287.690570      17.987795\n",
       "std       218.081158      96.759853    1713.600303     378.810824\n",
       "min    -80995.000000  -11062.060000   12346.000000 -168469.600000\n",
       "25%         1.000000       1.250000   13953.000000       3.400000\n",
       "50%         3.000000       2.080000   15152.000000       9.750000\n",
       "75%        10.000000       4.130000   16791.000000      17.400000\n",
       "max     80995.000000   38970.000000   18287.000000  168469.600000"
      ]
     },
     "execution_count": 4,
     "metadata": {},
     "output_type": "execute_result"
    }
   ],
   "source": [
    "# Sekarang, mari dapatkan beberapa ringkasan statistik untuk kolom numerik\n",
    "df.describe()\n"
   ]
  },
  {
   "cell_type": "code",
   "execution_count": 5,
   "id": "694bc645",
   "metadata": {
    "execution": {
     "iopub.execute_input": "2023-01-25T09:40:31.530460Z",
     "iopub.status.busy": "2023-01-25T09:40:31.529849Z",
     "iopub.status.idle": "2023-01-25T09:40:31.666989Z",
     "shell.execute_reply": "2023-01-25T09:40:31.665893Z"
    },
    "papermill": {
     "duration": 0.155682,
     "end_time": "2023-01-25T09:40:31.669971",
     "exception": false,
     "start_time": "2023-01-25T09:40:31.514289",
     "status": "completed"
    },
    "scrolled": true,
    "tags": []
   },
   "outputs": [
    {
     "name": "stdout",
     "output_type": "stream",
     "text": [
      "<class 'pandas.core.frame.DataFrame'>\n",
      "RangeIndex: 541909 entries, 0 to 541908\n",
      "Data columns (total 9 columns):\n",
      " #   Column       Non-Null Count   Dtype  \n",
      "---  ------       --------------   -----  \n",
      " 0   InvoiceNo    541909 non-null  object \n",
      " 1   StockCode    541909 non-null  object \n",
      " 2   Description  540455 non-null  object \n",
      " 3   Quantity     541909 non-null  int64  \n",
      " 4   InvoiceDate  541909 non-null  object \n",
      " 5   UnitPrice    541909 non-null  float64\n",
      " 6   CustomerID   406829 non-null  float64\n",
      " 7   Country      541909 non-null  object \n",
      " 8   TotalPrice   541909 non-null  float64\n",
      "dtypes: float64(3), int64(1), object(5)\n",
      "memory usage: 37.2+ MB\n"
     ]
    }
   ],
   "source": [
    "df.info()"
   ]
  },
  {
   "cell_type": "code",
   "execution_count": 7,
   "id": "f07ff6a3",
   "metadata": {
    "execution": {
     "iopub.execute_input": "2023-01-25T09:40:31.701423Z",
     "iopub.status.busy": "2023-01-25T09:40:31.700651Z",
     "iopub.status.idle": "2023-01-25T09:40:31.744794Z",
     "shell.execute_reply": "2023-01-25T09:40:31.743866Z"
    },
    "papermill": {
     "duration": 0.062566,
     "end_time": "2023-01-25T09:40:31.747025",
     "exception": false,
     "start_time": "2023-01-25T09:40:31.684459",
     "status": "completed"
    },
    "scrolled": true,
    "tags": []
   },
   "outputs": [
    {
     "data": {
      "text/html": [
       "<div>\n",
       "<style scoped>\n",
       "    .dataframe tbody tr th:only-of-type {\n",
       "        vertical-align: middle;\n",
       "    }\n",
       "\n",
       "    .dataframe tbody tr th {\n",
       "        vertical-align: top;\n",
       "    }\n",
       "\n",
       "    .dataframe thead th {\n",
       "        text-align: right;\n",
       "    }\n",
       "</style>\n",
       "<table border=\"1\" class=\"dataframe\">\n",
       "  <thead>\n",
       "    <tr style=\"text-align: right;\">\n",
       "      <th></th>\n",
       "      <th>InvoiceNo</th>\n",
       "      <th>StockCode</th>\n",
       "      <th>Description</th>\n",
       "      <th>Quantity</th>\n",
       "      <th>InvoiceDate</th>\n",
       "      <th>UnitPrice</th>\n",
       "      <th>CustomerID</th>\n",
       "      <th>Country</th>\n",
       "      <th>TotalPrice</th>\n",
       "    </tr>\n",
       "  </thead>\n",
       "  <tbody>\n",
       "    <tr>\n",
       "      <th>622</th>\n",
       "      <td>536414</td>\n",
       "      <td>22139</td>\n",
       "      <td>NaN</td>\n",
       "      <td>56</td>\n",
       "      <td>12/1/2010 11:52</td>\n",
       "      <td>0.0</td>\n",
       "      <td>NaN</td>\n",
       "      <td>United Kingdom</td>\n",
       "      <td>0.0</td>\n",
       "    </tr>\n",
       "    <tr>\n",
       "      <th>1970</th>\n",
       "      <td>536545</td>\n",
       "      <td>21134</td>\n",
       "      <td>NaN</td>\n",
       "      <td>1</td>\n",
       "      <td>12/1/2010 14:32</td>\n",
       "      <td>0.0</td>\n",
       "      <td>NaN</td>\n",
       "      <td>United Kingdom</td>\n",
       "      <td>0.0</td>\n",
       "    </tr>\n",
       "    <tr>\n",
       "      <th>1971</th>\n",
       "      <td>536546</td>\n",
       "      <td>22145</td>\n",
       "      <td>NaN</td>\n",
       "      <td>1</td>\n",
       "      <td>12/1/2010 14:33</td>\n",
       "      <td>0.0</td>\n",
       "      <td>NaN</td>\n",
       "      <td>United Kingdom</td>\n",
       "      <td>0.0</td>\n",
       "    </tr>\n",
       "    <tr>\n",
       "      <th>1972</th>\n",
       "      <td>536547</td>\n",
       "      <td>37509</td>\n",
       "      <td>NaN</td>\n",
       "      <td>1</td>\n",
       "      <td>12/1/2010 14:33</td>\n",
       "      <td>0.0</td>\n",
       "      <td>NaN</td>\n",
       "      <td>United Kingdom</td>\n",
       "      <td>0.0</td>\n",
       "    </tr>\n",
       "    <tr>\n",
       "      <th>1987</th>\n",
       "      <td>536549</td>\n",
       "      <td>85226A</td>\n",
       "      <td>NaN</td>\n",
       "      <td>1</td>\n",
       "      <td>12/1/2010 14:34</td>\n",
       "      <td>0.0</td>\n",
       "      <td>NaN</td>\n",
       "      <td>United Kingdom</td>\n",
       "      <td>0.0</td>\n",
       "    </tr>\n",
       "    <tr>\n",
       "      <th>...</th>\n",
       "      <td>...</td>\n",
       "      <td>...</td>\n",
       "      <td>...</td>\n",
       "      <td>...</td>\n",
       "      <td>...</td>\n",
       "      <td>...</td>\n",
       "      <td>...</td>\n",
       "      <td>...</td>\n",
       "      <td>...</td>\n",
       "    </tr>\n",
       "    <tr>\n",
       "      <th>535322</th>\n",
       "      <td>581199</td>\n",
       "      <td>84581</td>\n",
       "      <td>NaN</td>\n",
       "      <td>-2</td>\n",
       "      <td>12/7/2011 18:26</td>\n",
       "      <td>0.0</td>\n",
       "      <td>NaN</td>\n",
       "      <td>United Kingdom</td>\n",
       "      <td>-0.0</td>\n",
       "    </tr>\n",
       "    <tr>\n",
       "      <th>535326</th>\n",
       "      <td>581203</td>\n",
       "      <td>23406</td>\n",
       "      <td>NaN</td>\n",
       "      <td>15</td>\n",
       "      <td>12/7/2011 18:31</td>\n",
       "      <td>0.0</td>\n",
       "      <td>NaN</td>\n",
       "      <td>United Kingdom</td>\n",
       "      <td>0.0</td>\n",
       "    </tr>\n",
       "    <tr>\n",
       "      <th>535332</th>\n",
       "      <td>581209</td>\n",
       "      <td>21620</td>\n",
       "      <td>NaN</td>\n",
       "      <td>6</td>\n",
       "      <td>12/7/2011 18:35</td>\n",
       "      <td>0.0</td>\n",
       "      <td>NaN</td>\n",
       "      <td>United Kingdom</td>\n",
       "      <td>0.0</td>\n",
       "    </tr>\n",
       "    <tr>\n",
       "      <th>536981</th>\n",
       "      <td>581234</td>\n",
       "      <td>72817</td>\n",
       "      <td>NaN</td>\n",
       "      <td>27</td>\n",
       "      <td>12/8/2011 10:33</td>\n",
       "      <td>0.0</td>\n",
       "      <td>NaN</td>\n",
       "      <td>United Kingdom</td>\n",
       "      <td>0.0</td>\n",
       "    </tr>\n",
       "    <tr>\n",
       "      <th>538554</th>\n",
       "      <td>581408</td>\n",
       "      <td>85175</td>\n",
       "      <td>NaN</td>\n",
       "      <td>20</td>\n",
       "      <td>12/8/2011 14:06</td>\n",
       "      <td>0.0</td>\n",
       "      <td>NaN</td>\n",
       "      <td>United Kingdom</td>\n",
       "      <td>0.0</td>\n",
       "    </tr>\n",
       "  </tbody>\n",
       "</table>\n",
       "<p>1454 rows × 9 columns</p>\n",
       "</div>"
      ],
      "text/plain": [
       "       InvoiceNo StockCode Description  Quantity      InvoiceDate  UnitPrice  \\\n",
       "622       536414     22139         NaN        56  12/1/2010 11:52        0.0   \n",
       "1970      536545     21134         NaN         1  12/1/2010 14:32        0.0   \n",
       "1971      536546     22145         NaN         1  12/1/2010 14:33        0.0   \n",
       "1972      536547     37509         NaN         1  12/1/2010 14:33        0.0   \n",
       "1987      536549    85226A         NaN         1  12/1/2010 14:34        0.0   \n",
       "...          ...       ...         ...       ...              ...        ...   \n",
       "535322    581199     84581         NaN        -2  12/7/2011 18:26        0.0   \n",
       "535326    581203     23406         NaN        15  12/7/2011 18:31        0.0   \n",
       "535332    581209     21620         NaN         6  12/7/2011 18:35        0.0   \n",
       "536981    581234     72817         NaN        27  12/8/2011 10:33        0.0   \n",
       "538554    581408     85175         NaN        20  12/8/2011 14:06        0.0   \n",
       "\n",
       "        CustomerID         Country  TotalPrice  \n",
       "622            NaN  United Kingdom         0.0  \n",
       "1970           NaN  United Kingdom         0.0  \n",
       "1971           NaN  United Kingdom         0.0  \n",
       "1972           NaN  United Kingdom         0.0  \n",
       "1987           NaN  United Kingdom         0.0  \n",
       "...            ...             ...         ...  \n",
       "535322         NaN  United Kingdom        -0.0  \n",
       "535326         NaN  United Kingdom         0.0  \n",
       "535332         NaN  United Kingdom         0.0  \n",
       "536981         NaN  United Kingdom         0.0  \n",
       "538554         NaN  United Kingdom         0.0  \n",
       "\n",
       "[1454 rows x 9 columns]"
      ]
     },
     "execution_count": 7,
     "metadata": {},
     "output_type": "execute_result"
    }
   ],
   "source": [
    "#untuk mengatasi nilai NaN/hilang\n",
    "missing_description = df.loc[df.Description.isnull()]\n",
    "missing_description"
   ]
  },
  {
   "cell_type": "code",
   "execution_count": 8,
   "id": "f6594263",
   "metadata": {
    "execution": {
     "iopub.execute_input": "2023-01-25T09:40:31.778637Z",
     "iopub.status.busy": "2023-01-25T09:40:31.777933Z",
     "iopub.status.idle": "2023-01-25T09:40:31.788589Z",
     "shell.execute_reply": "2023-01-25T09:40:31.787521Z"
    },
    "papermill": {
     "duration": 0.028978,
     "end_time": "2023-01-25T09:40:31.791090",
     "exception": false,
     "start_time": "2023-01-25T09:40:31.762112",
     "status": "completed"
    },
    "scrolled": true,
    "tags": []
   },
   "outputs": [
    {
     "data": {
      "text/plain": [
       "0.0    1454\n",
       "Name: UnitPrice, dtype: int64"
      ]
     },
     "execution_count": 8,
     "metadata": {},
     "output_type": "execute_result"
    }
   ],
   "source": [
    "missing_description.UnitPrice.value_counts()"
   ]
  },
  {
   "cell_type": "code",
   "execution_count": 9,
   "id": "5c5ec681",
   "metadata": {
    "execution": {
     "iopub.execute_input": "2023-01-25T09:40:31.823668Z",
     "iopub.status.busy": "2023-01-25T09:40:31.822770Z",
     "iopub.status.idle": "2023-01-25T09:40:32.091705Z",
     "shell.execute_reply": "2023-01-25T09:40:32.090824Z"
    },
    "papermill": {
     "duration": 0.287687,
     "end_time": "2023-01-25T09:40:32.093810",
     "exception": false,
     "start_time": "2023-01-25T09:40:31.806123",
     "status": "completed"
    },
    "scrolled": true,
    "tags": []
   },
   "outputs": [
    {
     "data": {
      "text/plain": [
       "InvoiceNo      0\n",
       "StockCode      0\n",
       "Description    0\n",
       "Quantity       0\n",
       "InvoiceDate    0\n",
       "UnitPrice      0\n",
       "CustomerID     0\n",
       "Country        0\n",
       "TotalPrice     0\n",
       "dtype: int64"
      ]
     },
     "execution_count": 9,
     "metadata": {},
     "output_type": "execute_result"
    }
   ],
   "source": [
    "df = df.dropna()\n",
    "df.isnull().sum()"
   ]
  },
  {
   "cell_type": "code",
   "execution_count": 10,
   "id": "6456d7e5",
   "metadata": {
    "execution": {
     "iopub.execute_input": "2023-01-25T09:40:32.125047Z",
     "iopub.status.busy": "2023-01-25T09:40:32.124450Z",
     "iopub.status.idle": "2023-01-25T09:40:32.274107Z",
     "shell.execute_reply": "2023-01-25T09:40:32.273010Z"
    },
    "papermill": {
     "duration": 0.168054,
     "end_time": "2023-01-25T09:40:32.276656",
     "exception": false,
     "start_time": "2023-01-25T09:40:32.108602",
     "status": "completed"
    },
    "scrolled": true,
    "tags": []
   },
   "outputs": [
    {
     "data": {
      "text/html": [
       "<div>\n",
       "<style scoped>\n",
       "    .dataframe tbody tr th:only-of-type {\n",
       "        vertical-align: middle;\n",
       "    }\n",
       "\n",
       "    .dataframe tbody tr th {\n",
       "        vertical-align: top;\n",
       "    }\n",
       "\n",
       "    .dataframe thead th {\n",
       "        text-align: right;\n",
       "    }\n",
       "</style>\n",
       "<table border=\"1\" class=\"dataframe\">\n",
       "  <thead>\n",
       "    <tr style=\"text-align: right;\">\n",
       "      <th></th>\n",
       "      <th>InvoiceNo</th>\n",
       "      <th>StockCode</th>\n",
       "      <th>Description</th>\n",
       "      <th>Quantity</th>\n",
       "      <th>InvoiceDate</th>\n",
       "      <th>UnitPrice</th>\n",
       "      <th>CustomerID</th>\n",
       "      <th>Country</th>\n",
       "      <th>TotalPrice</th>\n",
       "      <th>canceled</th>\n",
       "    </tr>\n",
       "  </thead>\n",
       "  <tbody>\n",
       "    <tr>\n",
       "      <th>141</th>\n",
       "      <td>C536379</td>\n",
       "      <td>D</td>\n",
       "      <td>Discount</td>\n",
       "      <td>-1</td>\n",
       "      <td>12/1/2010 9:41</td>\n",
       "      <td>27.50</td>\n",
       "      <td>14527.0</td>\n",
       "      <td>United Kingdom</td>\n",
       "      <td>-27.50</td>\n",
       "      <td>True</td>\n",
       "    </tr>\n",
       "    <tr>\n",
       "      <th>154</th>\n",
       "      <td>C536383</td>\n",
       "      <td>35004C</td>\n",
       "      <td>SET OF 3 COLOURED  FLYING DUCKS</td>\n",
       "      <td>-1</td>\n",
       "      <td>12/1/2010 9:49</td>\n",
       "      <td>4.65</td>\n",
       "      <td>15311.0</td>\n",
       "      <td>United Kingdom</td>\n",
       "      <td>-4.65</td>\n",
       "      <td>True</td>\n",
       "    </tr>\n",
       "    <tr>\n",
       "      <th>235</th>\n",
       "      <td>C536391</td>\n",
       "      <td>22556</td>\n",
       "      <td>PLASTERS IN TIN CIRCUS PARADE</td>\n",
       "      <td>-12</td>\n",
       "      <td>12/1/2010 10:24</td>\n",
       "      <td>1.65</td>\n",
       "      <td>17548.0</td>\n",
       "      <td>United Kingdom</td>\n",
       "      <td>-19.80</td>\n",
       "      <td>True</td>\n",
       "    </tr>\n",
       "    <tr>\n",
       "      <th>236</th>\n",
       "      <td>C536391</td>\n",
       "      <td>21984</td>\n",
       "      <td>PACK OF 12 PINK PAISLEY TISSUES</td>\n",
       "      <td>-24</td>\n",
       "      <td>12/1/2010 10:24</td>\n",
       "      <td>0.29</td>\n",
       "      <td>17548.0</td>\n",
       "      <td>United Kingdom</td>\n",
       "      <td>-6.96</td>\n",
       "      <td>True</td>\n",
       "    </tr>\n",
       "    <tr>\n",
       "      <th>237</th>\n",
       "      <td>C536391</td>\n",
       "      <td>21983</td>\n",
       "      <td>PACK OF 12 BLUE PAISLEY TISSUES</td>\n",
       "      <td>-24</td>\n",
       "      <td>12/1/2010 10:24</td>\n",
       "      <td>0.29</td>\n",
       "      <td>17548.0</td>\n",
       "      <td>United Kingdom</td>\n",
       "      <td>-6.96</td>\n",
       "      <td>True</td>\n",
       "    </tr>\n",
       "  </tbody>\n",
       "</table>\n",
       "</div>"
      ],
      "text/plain": [
       "    InvoiceNo StockCode                       Description  Quantity  \\\n",
       "141   C536379         D                          Discount        -1   \n",
       "154   C536383    35004C   SET OF 3 COLOURED  FLYING DUCKS        -1   \n",
       "235   C536391     22556    PLASTERS IN TIN CIRCUS PARADE        -12   \n",
       "236   C536391     21984  PACK OF 12 PINK PAISLEY TISSUES        -24   \n",
       "237   C536391     21983  PACK OF 12 BLUE PAISLEY TISSUES        -24   \n",
       "\n",
       "         InvoiceDate  UnitPrice  CustomerID         Country  TotalPrice  \\\n",
       "141   12/1/2010 9:41      27.50     14527.0  United Kingdom      -27.50   \n",
       "154   12/1/2010 9:49       4.65     15311.0  United Kingdom       -4.65   \n",
       "235  12/1/2010 10:24       1.65     17548.0  United Kingdom      -19.80   \n",
       "236  12/1/2010 10:24       0.29     17548.0  United Kingdom       -6.96   \n",
       "237  12/1/2010 10:24       0.29     17548.0  United Kingdom       -6.96   \n",
       "\n",
       "     canceled  \n",
       "141      True  \n",
       "154      True  \n",
       "235      True  \n",
       "236      True  \n",
       "237      True  "
      ]
     },
     "execution_count": 10,
     "metadata": {},
     "output_type": "execute_result"
    }
   ],
   "source": [
    "# Selanjutnya, kami akan membuat kolom baru bernama 'canceled' yang menunjukkan apakah pesanan dicanceled\n",
    "df['canceled'] = ['C' in str(x) for x in df['InvoiceNo']]\n",
    "\n",
    "# Terakhir, kita akan membuat kerangka data baru bernama 'canceled_orders' yang hanya berisi pesanan yang dibatalkan\n",
    "canceled_orders = df[df['canceled'] == True]\n",
    "canceled_orders.head()"
   ]
  },
  {
   "cell_type": "code",
   "execution_count": 11,
   "id": "7ed77feb",
   "metadata": {
    "execution": {
     "iopub.execute_input": "2023-01-25T09:40:32.308939Z",
     "iopub.status.busy": "2023-01-25T09:40:32.307805Z",
     "iopub.status.idle": "2023-01-25T09:40:32.325069Z",
     "shell.execute_reply": "2023-01-25T09:40:32.323435Z"
    },
    "papermill": {
     "duration": 0.035744,
     "end_time": "2023-01-25T09:40:32.327447",
     "exception": false,
     "start_time": "2023-01-25T09:40:32.291703",
     "status": "completed"
    },
    "scrolled": true,
    "tags": []
   },
   "outputs": [
    {
     "name": "stdout",
     "output_type": "stream",
     "text": [
      "<class 'pandas.core.frame.DataFrame'>\n",
      "Int64Index: 8905 entries, 141 to 541717\n",
      "Data columns (total 10 columns):\n",
      " #   Column       Non-Null Count  Dtype  \n",
      "---  ------       --------------  -----  \n",
      " 0   InvoiceNo    8905 non-null   object \n",
      " 1   StockCode    8905 non-null   object \n",
      " 2   Description  8905 non-null   object \n",
      " 3   Quantity     8905 non-null   int64  \n",
      " 4   InvoiceDate  8905 non-null   object \n",
      " 5   UnitPrice    8905 non-null   float64\n",
      " 6   CustomerID   8905 non-null   float64\n",
      " 7   Country      8905 non-null   object \n",
      " 8   TotalPrice   8905 non-null   float64\n",
      " 9   canceled     8905 non-null   bool   \n",
      "dtypes: bool(1), float64(3), int64(1), object(5)\n",
      "memory usage: 704.4+ KB\n"
     ]
    }
   ],
   "source": [
    "canceled_orders.info()"
   ]
  },
  {
   "cell_type": "code",
   "execution_count": 12,
   "id": "7fb10941",
   "metadata": {
    "execution": {
     "iopub.execute_input": "2023-01-25T09:40:32.359404Z",
     "iopub.status.busy": "2023-01-25T09:40:32.359018Z",
     "iopub.status.idle": "2023-01-25T09:40:32.425177Z",
     "shell.execute_reply": "2023-01-25T09:40:32.423788Z"
    },
    "papermill": {
     "duration": 0.085158,
     "end_time": "2023-01-25T09:40:32.427656",
     "exception": false,
     "start_time": "2023-01-25T09:40:32.342498",
     "status": "completed"
    },
    "scrolled": true,
    "tags": []
   },
   "outputs": [
    {
     "data": {
      "text/html": [
       "<div>\n",
       "<style scoped>\n",
       "    .dataframe tbody tr th:only-of-type {\n",
       "        vertical-align: middle;\n",
       "    }\n",
       "\n",
       "    .dataframe tbody tr th {\n",
       "        vertical-align: top;\n",
       "    }\n",
       "\n",
       "    .dataframe thead th {\n",
       "        text-align: right;\n",
       "    }\n",
       "</style>\n",
       "<table border=\"1\" class=\"dataframe\">\n",
       "  <thead>\n",
       "    <tr style=\"text-align: right;\">\n",
       "      <th></th>\n",
       "      <th>InvoiceNo</th>\n",
       "      <th>StockCode</th>\n",
       "      <th>Description</th>\n",
       "      <th>Quantity</th>\n",
       "      <th>InvoiceDate</th>\n",
       "      <th>UnitPrice</th>\n",
       "      <th>CustomerID</th>\n",
       "      <th>Country</th>\n",
       "      <th>TotalPrice</th>\n",
       "      <th>canceled</th>\n",
       "    </tr>\n",
       "  </thead>\n",
       "  <tbody>\n",
       "    <tr>\n",
       "      <th>0</th>\n",
       "      <td>536365</td>\n",
       "      <td>85123A</td>\n",
       "      <td>WHITE HANGING HEART T-LIGHT HOLDER</td>\n",
       "      <td>6</td>\n",
       "      <td>12/1/2010 8:26</td>\n",
       "      <td>2.55</td>\n",
       "      <td>17850.0</td>\n",
       "      <td>United Kingdom</td>\n",
       "      <td>15.30</td>\n",
       "      <td>False</td>\n",
       "    </tr>\n",
       "    <tr>\n",
       "      <th>1</th>\n",
       "      <td>536365</td>\n",
       "      <td>71053</td>\n",
       "      <td>WHITE METAL LANTERN</td>\n",
       "      <td>6</td>\n",
       "      <td>12/1/2010 8:26</td>\n",
       "      <td>3.39</td>\n",
       "      <td>17850.0</td>\n",
       "      <td>United Kingdom</td>\n",
       "      <td>20.34</td>\n",
       "      <td>False</td>\n",
       "    </tr>\n",
       "    <tr>\n",
       "      <th>2</th>\n",
       "      <td>536365</td>\n",
       "      <td>84406B</td>\n",
       "      <td>CREAM CUPID HEARTS COAT HANGER</td>\n",
       "      <td>8</td>\n",
       "      <td>12/1/2010 8:26</td>\n",
       "      <td>2.75</td>\n",
       "      <td>17850.0</td>\n",
       "      <td>United Kingdom</td>\n",
       "      <td>22.00</td>\n",
       "      <td>False</td>\n",
       "    </tr>\n",
       "    <tr>\n",
       "      <th>3</th>\n",
       "      <td>536365</td>\n",
       "      <td>84029G</td>\n",
       "      <td>KNITTED UNION FLAG HOT WATER BOTTLE</td>\n",
       "      <td>6</td>\n",
       "      <td>12/1/2010 8:26</td>\n",
       "      <td>3.39</td>\n",
       "      <td>17850.0</td>\n",
       "      <td>United Kingdom</td>\n",
       "      <td>20.34</td>\n",
       "      <td>False</td>\n",
       "    </tr>\n",
       "    <tr>\n",
       "      <th>4</th>\n",
       "      <td>536365</td>\n",
       "      <td>84029E</td>\n",
       "      <td>RED WOOLLY HOTTIE WHITE HEART.</td>\n",
       "      <td>6</td>\n",
       "      <td>12/1/2010 8:26</td>\n",
       "      <td>3.39</td>\n",
       "      <td>17850.0</td>\n",
       "      <td>United Kingdom</td>\n",
       "      <td>20.34</td>\n",
       "      <td>False</td>\n",
       "    </tr>\n",
       "  </tbody>\n",
       "</table>\n",
       "</div>"
      ],
      "text/plain": [
       "  InvoiceNo StockCode                          Description  Quantity  \\\n",
       "0    536365    85123A   WHITE HANGING HEART T-LIGHT HOLDER         6   \n",
       "1    536365     71053                  WHITE METAL LANTERN         6   \n",
       "2    536365    84406B       CREAM CUPID HEARTS COAT HANGER         8   \n",
       "3    536365    84029G  KNITTED UNION FLAG HOT WATER BOTTLE         6   \n",
       "4    536365    84029E       RED WOOLLY HOTTIE WHITE HEART.         6   \n",
       "\n",
       "      InvoiceDate  UnitPrice  CustomerID         Country  TotalPrice  canceled  \n",
       "0  12/1/2010 8:26       2.55     17850.0  United Kingdom       15.30     False  \n",
       "1  12/1/2010 8:26       3.39     17850.0  United Kingdom       20.34     False  \n",
       "2  12/1/2010 8:26       2.75     17850.0  United Kingdom       22.00     False  \n",
       "3  12/1/2010 8:26       3.39     17850.0  United Kingdom       20.34     False  \n",
       "4  12/1/2010 8:26       3.39     17850.0  United Kingdom       20.34     False  "
      ]
     },
     "execution_count": 12,
     "metadata": {},
     "output_type": "execute_result"
    }
   ],
   "source": [
    "# Next, we'll create a new dataframe called 'df_clean' that contains only the rows with non-negative values in the 'Quantity' column\n",
    "df_clean = df[df['Quantity'] >= 0]\n",
    "df_clean.head()"
   ]
  },
  {
   "cell_type": "code",
   "execution_count": 13,
   "id": "8bd4bd5d",
   "metadata": {
    "execution": {
     "iopub.execute_input": "2023-01-25T09:40:32.468104Z",
     "iopub.status.busy": "2023-01-25T09:40:32.467375Z",
     "iopub.status.idle": "2023-01-25T09:40:32.518129Z",
     "shell.execute_reply": "2023-01-25T09:40:32.516366Z"
    },
    "papermill": {
     "duration": 0.075497,
     "end_time": "2023-01-25T09:40:32.521104",
     "exception": false,
     "start_time": "2023-01-25T09:40:32.445607",
     "status": "completed"
    },
    "scrolled": true,
    "tags": []
   },
   "outputs": [
    {
     "name": "stdout",
     "output_type": "stream",
     "text": [
      "Total number of orders in the dataset: 18536\n",
      "Total Number of customers: 4339\n"
     ]
    }
   ],
   "source": [
    "print(\"Total number of orders in the dataset:\",df_clean['InvoiceNo'].nunique())\n",
    "print(\"Total Number of customers:\",df_clean['CustomerID'].nunique())"
   ]
  },
  {
   "cell_type": "markdown",
   "id": "21d9470d",
   "metadata": {
    "papermill": {
     "duration": 0.015814,
     "end_time": "2023-01-25T09:40:32.552713",
     "exception": false,
     "start_time": "2023-01-25T09:40:32.536899",
     "status": "completed"
    },
    "tags": []
   },
   "source": [
    "#### **Exploratory Data Analysis** <a class=\"anchor\" id=\"eda\"></a>"
   ]
  },
  {
   "cell_type": "code",
   "execution_count": 14,
   "id": "7c9d2d74",
   "metadata": {
    "execution": {
     "iopub.execute_input": "2023-01-25T09:40:32.584880Z",
     "iopub.status.busy": "2023-01-25T09:40:32.584479Z",
     "iopub.status.idle": "2023-01-25T09:40:33.078486Z",
     "shell.execute_reply": "2023-01-25T09:40:33.077352Z"
    },
    "papermill": {
     "duration": 0.512944,
     "end_time": "2023-01-25T09:40:33.081029",
     "exception": false,
     "start_time": "2023-01-25T09:40:32.568085",
     "status": "completed"
    },
    "scrolled": true,
    "tags": []
   },
   "outputs": [
    {
     "data": {
      "image/png": "[encoded data removed]",
      "text/plain": [
       "<Figure size 432x288 with 4 Axes>"
      ]
     },
     "metadata": {
      "needs_background": "light"
     },
     "output_type": "display_data"
    }
   ],
   "source": [
    "# We can also visualize the distribution of the numerical columns using histograms\n",
    "df_clean.hist()\n",
    "plt.show()"
   ]
  },
  {
   "cell_type": "code",
   "execution_count": 15,
   "id": "1c42d7d1",
   "metadata": {
    "execution": {
     "iopub.execute_input": "2023-01-25T09:40:33.114508Z",
     "iopub.status.busy": "2023-01-25T09:40:33.113725Z",
     "iopub.status.idle": "2023-01-25T09:40:33.491327Z",
     "shell.execute_reply": "2023-01-25T09:40:33.490129Z"
    },
    "papermill": {
     "duration": 0.396816,
     "end_time": "2023-01-25T09:40:33.493625",
     "exception": false,
     "start_time": "2023-01-25T09:40:33.096809",
     "status": "completed"
    },
    "scrolled": true,
    "tags": []
   },
   "outputs": [
    {
     "name": "stderr",
     "output_type": "stream",
     "text": [
      "C:\\Users\\Dell\\AppData\\Local\\Temp\\ipykernel_9972\\154507825.py:2: SettingWithCopyWarning: \n",
      "A value is trying to be set on a copy of a slice from a DataFrame.\n",
      "Try using .loc[row_indexer,col_indexer] = value instead\n",
      "\n",
      "See the caveats in the documentation: https://pandas.pydata.org/pandas-docs/stable/user_guide/indexing.html#returning-a-view-versus-a-copy\n",
      "  df_clean['TotalPrice'] = df_clean['Quantity'] * df_clean['UnitPrice']\n"
     ]
    },
    {
     "name": "stdout",
     "output_type": "stream",
     "text": [
      "Country\n",
      "Australia               116.895620\n",
      "Austria                  25.624824\n",
      "Bahrain                  32.258824\n",
      "Belgium                  20.283772\n",
      "Brazil                   35.737500\n",
      "Canada                   24.280662\n",
      "Channel Islands          27.340160\n",
      "Cyprus                   22.134169\n",
      "Czech Republic           33.069600\n",
      "Denmark                  49.882474\n",
      "EIRE                     36.687745\n",
      "European Community       21.670833\n",
      "Finland                  32.913985\n",
      "France                   25.056827\n",
      "Germany                  25.311562\n",
      "Greece                   32.831172\n",
      "Iceland                  23.681319\n",
      "Israel                   29.119718\n",
      "Italy                    23.064960\n",
      "Japan                   116.561900\n",
      "Lebanon                  37.641778\n",
      "Lithuania                47.458857\n",
      "Malta                    24.335625\n",
      "Netherlands             120.798282\n",
      "Norway                   33.736418\n",
      "Poland                   22.226212\n",
      "Portugal                 22.872702\n",
      "RSA                      17.281207\n",
      "Saudi Arabia             16.213333\n",
      "Singapore                95.852658\n",
      "Spain                    24.779521\n",
      "Sweden                   85.096075\n",
      "Switzerland              30.642752\n",
      "USA                      20.002179\n",
      "United Arab Emirates     27.974706\n",
      "United Kingdom           20.625073\n",
      "Unspecified              10.930615\n",
      "Name: TotalPrice, dtype: float64\n"
     ]
    },
    {
     "data": {
      "image/png": "[encoded data removed]",
      "text/plain": [
       "<Figure size 432x288 with 1 Axes>"
      ]
     },
     "metadata": {
      "needs_background": "light"
     },
     "output_type": "display_data"
    }
   ],
   "source": [
    "# Mari buat kolom baru bernama 'TotalPrice' yang mewakili totalprice untuk setiap transaksi\n",
    "df_clean['TotalPrice'] = df_clean['Quantity'] * df_clean['UnitPrice']\n",
    "\n",
    "# Sekarang, mari kita kelompokkan data berdasarkan country dan hitung mean total price untuk setiap negara\n",
    "country_group = df_clean.groupby('Country')\n",
    "mean_price_by_country = country_group['TotalPrice'].mean()\n",
    "print(mean_price_by_country)\n",
    "\n",
    "# Terakhir, mari buat diagram batang untuk memvisualisasikan mean toalprice untuk setiap country\n",
    "mean_price_by_country.plot(kind='bar')\n",
    "plt.show()"
   ]
  },
  {
   "cell_type": "code",
   "execution_count": 16,
   "id": "ae4df209",
   "metadata": {
    "execution": {
     "iopub.execute_input": "2023-01-25T09:40:33.529104Z",
     "iopub.status.busy": "2023-01-25T09:40:33.528702Z",
     "iopub.status.idle": "2023-01-25T09:40:33.761150Z",
     "shell.execute_reply": "2023-01-25T09:40:33.760256Z"
    },
    "papermill": {
     "duration": 0.252974,
     "end_time": "2023-01-25T09:40:33.763733",
     "exception": false,
     "start_time": "2023-01-25T09:40:33.510759",
     "status": "completed"
    },
    "scrolled": true,
    "tags": []
   },
   "outputs": [
    {
     "name": "stdout",
     "output_type": "stream",
     "text": [
      "                 TotalPrice\n",
      "Country                    \n",
      "United Kingdom  7308391.554\n",
      "Netherlands      285446.340\n",
      "EIRE             265545.900\n",
      "Germany          228867.140\n",
      "France           209024.050\n",
      "Australia        138521.310\n",
      "Spain             61577.110\n",
      "Switzerland       56443.950\n",
      "Belgium           41196.340\n",
      "Sweden            38378.330\n"
     ]
    },
    {
     "data": {
      "image/png": "[encoded data removed]",
      "text/plain": [
       "<Figure size 432x288 with 1 Axes>"
      ]
     },
     "metadata": {
      "needs_background": "light"
     },
     "output_type": "display_data"
    }
   ],
   "source": [
    "# 10 negara teratas\n",
    "\n",
    "# Sekarang, kita akan membuat kerangka data baru yang hanya berisi kolom 'Country' dan 'Totalprice'\n",
    "df_countries = df_clean[['Country', 'TotalPrice']]\n",
    "\n",
    "# Selanjutnya, kita akan mengelompokkan data berdasarkan negara dan menjumlahkan total price untuk setiap country\n",
    "df_countries = df_countries.groupby('Country').sum()\n",
    "\n",
    "# Terakhir, kami akan mengurutkan data berdasarkan Totalprice dan menampilkan 10 Country teratas\n",
    "df_countries = df_countries.sort_values('TotalPrice', ascending=False)\n",
    "print(df_countries.head(10))\n",
    "\n",
    "# Selanjutnya, kita akan menggunakan library seaborn untuk membuat plot batang horizontal\n",
    "sns.barplot(x='TotalPrice', y='Country', data=df_countries.reset_index().head(10), orient='h')\n",
    "\n",
    "# Terakhir, kami akan menunjukkan plotnya\n",
    "plt.show()"
   ]
  },
  {
   "cell_type": "markdown",
   "id": "7dc9aab8",
   "metadata": {
    "papermill": {
     "duration": 0.018793,
     "end_time": "2023-01-25T09:40:33.799858",
     "exception": false,
     "start_time": "2023-01-25T09:40:33.781065",
     "status": "completed"
    },
    "tags": []
   },
   "source": [
    "**1. Bagaimana tren keseluruhan dalam total penjualan dari waktu ke waktu?**"
   ]
  },
  {
   "cell_type": "code",
   "execution_count": 17,
   "id": "8c8719d9",
   "metadata": {
    "execution": {
     "iopub.execute_input": "2023-01-25T09:40:33.835897Z",
     "iopub.status.busy": "2023-01-25T09:40:33.835202Z",
     "iopub.status.idle": "2023-01-25T09:40:35.822393Z",
     "shell.execute_reply": "2023-01-25T09:40:35.821243Z"
    },
    "papermill": {
     "duration": 2.007582,
     "end_time": "2023-01-25T09:40:35.824709",
     "exception": false,
     "start_time": "2023-01-25T09:40:33.817127",
     "status": "completed"
    },
    "scrolled": true,
    "tags": []
   },
   "outputs": [
    {
     "name": "stderr",
     "output_type": "stream",
     "text": [
      "C:\\Users\\Dell\\AppData\\Local\\Temp\\ipykernel_9972\\3219757251.py:2: SettingWithCopyWarning: \n",
      "A value is trying to be set on a copy of a slice from a DataFrame.\n",
      "Try using .loc[row_indexer,col_indexer] = value instead\n",
      "\n",
      "See the caveats in the documentation: https://pandas.pydata.org/pandas-docs/stable/user_guide/indexing.html#returning-a-view-versus-a-copy\n",
      "  df_clean['TotalPrice'] = df_clean['Quantity'] * df_clean['UnitPrice']\n",
      "C:\\Users\\Dell\\AppData\\Local\\Temp\\ipykernel_9972\\3219757251.py:5: SettingWithCopyWarning: \n",
      "A value is trying to be set on a copy of a slice from a DataFrame.\n",
      "Try using .loc[row_indexer,col_indexer] = value instead\n",
      "\n",
      "See the caveats in the documentation: https://pandas.pydata.org/pandas-docs/stable/user_guide/indexing.html#returning-a-view-versus-a-copy\n",
      "  df_clean['InvoiceDate'] = pd.to_datetime(df_clean['InvoiceDate'])\n",
      "C:\\Users\\Dell\\AppData\\Local\\Temp\\ipykernel_9972\\3219757251.py:6: SettingWithCopyWarning: \n",
      "A value is trying to be set on a copy of a slice from a DataFrame.\n",
      "Try using .loc[row_indexer,col_indexer] = value instead\n",
      "\n",
      "See the caveats in the documentation: https://pandas.pydata.org/pandas-docs/stable/user_guide/indexing.html#returning-a-view-versus-a-copy\n",
      "  df_clean['Year'] = df_clean['InvoiceDate'].dt.year\n"
     ]
    },
    {
     "data": {
      "image/png": "[encoded data removed]",
      "text/plain": [
       "<Figure size 432x288 with 1 Axes>"
      ]
     },
     "metadata": {
      "needs_background": "light"
     },
     "output_type": "display_data"
    }
   ],
   "source": [
    "# Kita dapat menjawab pertanyaan ini dengan terlebih dahulu membuat kolom baru bernama 'TotalPrice' yang mewakili total harga untuk setiap transaksi\n",
    "df_clean['TotalPrice'] = df_clean['Quantity'] * df_clean['UnitPrice']\n",
    "\n",
    "# Selanjutnya, kita akan mengelompokkan data menurut tanggal faktur dan menjumlahkan total harga untuk setiap tanggal\n",
    "df_clean['InvoiceDate'] = pd.to_datetime(df_clean['InvoiceDate'])\n",
    "df_clean['Year'] = df_clean['InvoiceDate'].dt.year\n",
    "total_sales_by_year = df_clean.groupby('Year')['TotalPrice'].sum()\n",
    "\n",
    "# Sekarang, kita dapat menggunakan Seaborn untuk memplot total penjualan dari waktu ke waktu\n",
    "sns.lineplot(x=total_sales_by_year.index, y=total_sales_by_year.values)\n",
    "plt.title(\"Total sales over time\")\n",
    "plt.xlabel('Year')\n",
    "plt.ylabel('Total Sales')\n",
    "plt.show()"
   ]
  },
  {
   "cell_type": "markdown",
   "id": "336aa34f",
   "metadata": {
    "papermill": {
     "duration": 0.016916,
     "end_time": "2023-01-25T09:40:35.859230",
     "exception": false,
     "start_time": "2023-01-25T09:40:35.842314",
     "status": "completed"
    },
    "tags": []
   },
   "source": [
    "**2. Berapa nilai dan jumlah transaksi rata-rata per transaksi, dan bagaimana perbedaannya di setiap negara?**"
   ]
  },
  {
   "cell_type": "code",
   "execution_count": 18,
   "id": "f8d27fce",
   "metadata": {
    "execution": {
     "iopub.execute_input": "2023-01-25T09:40:35.895807Z",
     "iopub.status.busy": "2023-01-25T09:40:35.894789Z",
     "iopub.status.idle": "2023-01-25T09:40:36.371867Z",
     "shell.execute_reply": "2023-01-25T09:40:36.371082Z"
    },
    "papermill": {
     "duration": 0.497513,
     "end_time": "2023-01-25T09:40:36.373883",
     "exception": false,
     "start_time": "2023-01-25T09:40:35.876370",
     "status": "completed"
    },
    "scrolled": true,
    "tags": []
   },
   "outputs": [
    {
     "name": "stdout",
     "output_type": "stream",
     "text": [
      "Country\n",
      "Netherlands    120.798282\n",
      "Australia      116.895620\n",
      "Japan          116.561900\n",
      "Singapore       95.852658\n",
      "Sweden          85.096075\n",
      "Denmark         49.882474\n",
      "Lithuania       47.458857\n",
      "Lebanon         37.641778\n",
      "EIRE            36.687745\n",
      "Brazil          35.737500\n",
      "Name: TotalPrice, dtype: float64\n",
      "Country\n",
      "Netherlands       85.034702\n",
      "Japan             81.046729\n",
      "Sweden            80.006652\n",
      "Australia         71.062447\n",
      "Czech Republic    26.840000\n",
      "Singapore         23.608108\n",
      "Denmark           21.671053\n",
      "EIRE              19.414894\n",
      "Lithuania         18.628571\n",
      "Canada            18.298013\n",
      "Name: Quantity, dtype: float64\n"
     ]
    },
    {
     "data": {
      "image/png": "[encoded data removed]",
      "text/plain": [
       "<Figure size 432x288 with 1 Axes>"
      ]
     },
     "metadata": {
      "needs_background": "light"
     },
     "output_type": "display_data"
    }
   ],
   "source": [
    "# Kami dapat menjawab pertanyaan ini dengan mengelompokkan data berdasarkan negara dan menghitung rata-rata untuk kolom 'TotalPrice' dan 'Quantity'\n",
    "mean_price_by_country = df_clean.groupby('Country')['TotalPrice'].mean()\n",
    "mean_quantity_by_country = df_clean.groupby('Country')['Quantity'].mean()\n",
    "print(mean_price_by_country.sort_values(ascending=False).head(10))\n",
    "print(mean_quantity_by_country.sort_values(ascending=False).head(10))\n",
    "\n",
    "# Sekarang, kita dapat menggunakan Seaborn untuk memplot rata-rata nilai dan kuantitas transaksi\n",
    "sns.lineplot(x=mean_price_by_country.index, y=mean_price_by_country.values, label='Transaction Value')\n",
    "sns.lineplot(x=mean_quantity_by_country.index, y=mean_quantity_by_country.values, label='Transaction Quantity')\n",
    "plt.title(\"Average transaction value and quantity per transaction\")\n",
    "plt.xlabel('Country')\n",
    "plt.ylabel('Mean Transaction Value or Quantity')\n",
    "plt.show()"
   ]
  },
  {
   "cell_type": "markdown",
   "id": "cab3ef39",
   "metadata": {
    "papermill": {
     "duration": 0.017482,
     "end_time": "2023-01-25T09:40:36.409336",
     "exception": false,
     "start_time": "2023-01-25T09:40:36.391854",
     "status": "completed"
    },
    "tags": []
   },
   "source": [
    "**3. Bagaimana perbedaan jumlah transaksi dan total penjualan di setiap negara?**"
   ]
  },
  {
   "cell_type": "code",
   "execution_count": 27,
   "id": "89b3ce13",
   "metadata": {
    "execution": {
     "iopub.execute_input": "2023-01-25T09:40:36.446750Z",
     "iopub.status.busy": "2023-01-25T09:40:36.446348Z",
     "iopub.status.idle": "2023-01-25T09:40:37.053351Z",
     "shell.execute_reply": "2023-01-25T09:40:37.052350Z"
    },
    "papermill": {
     "duration": 0.629138,
     "end_time": "2023-01-25T09:40:37.056332",
     "exception": false,
     "start_time": "2023-01-25T09:40:36.427194",
     "status": "completed"
    },
    "scrolled": true,
    "tags": []
   },
   "outputs": [
    {
     "name": "stdout",
     "output_type": "stream",
     "text": [
      "Country\n",
      "United Kingdom    16649\n",
      "Germany             457\n",
      "France              389\n",
      "EIRE                260\n",
      "Belgium              98\n",
      "Netherlands          95\n",
      "Spain                90\n",
      "Australia            57\n",
      "Portugal             57\n",
      "Switzerland          51\n",
      "Name: InvoiceNo, dtype: int64\n",
      "Country\n",
      "United Kingdom    7308391.554\n",
      "Netherlands        285446.340\n",
      "EIRE               265545.900\n",
      "Germany            228867.140\n",
      "France             209024.050\n",
      "Australia          138521.310\n",
      "Spain               61577.110\n",
      "Switzerland         56443.950\n",
      "Belgium             41196.340\n",
      "Sweden              38378.330\n",
      "Name: TotalPrice, dtype: float64\n"
     ]
    },
    {
     "data": {
      "image/png": "[encoded data removed]",
      "text/plain": [
       "<Figure size 720x360 with 2 Axes>"
      ]
     },
     "metadata": {},
     "output_type": "display_data"
    }
   ],
   "source": [
    "# Kami dapat menjawab pertanyaan ini dengan mengelompokkan data berdasarkan negara dan menghitung jumlah transaksi dan menjumlahkan total sale untuk setiap Country\n",
    "num_transactions_by_country = df_clean.groupby('Country')['InvoiceNo'].nunique()\n",
    "total_sales_by_country = df_clean.groupby('Country')['TotalPrice'].sum()\n",
    "\n",
    "# Sekarang, kita bisa mencetak jumlah transaksi dan total sale tiap country\n",
    "print(num_transactions_by_country.sort_values(ascending=False).head(10))\n",
    "print(total_sales_by_country.sort_values(ascending=False).head(10))\n",
    "\n",
    "# Atur gaya untuk plot\n",
    "sns.set_style(\"darkgrid\")\n",
    "\n",
    "# Buat gambar dan subplot\n",
    "fig, ax = plt.subplots(nrows=1, ncols=2, figsize=(10, 5))\n",
    "\n",
    "# Plot jumlah transactions per country\n",
    "sns.barplot(x=num_transactions_by_country.sort_values(ascending=False).head(10), y=num_transactions_by_country.sort_values(ascending=False).head(10).index, ax=ax[0], orient='h')\n",
    "ax[0].set_title(\"Number of Transactions by Country\")\n",
    "\n",
    "# Plot total sales per country\n",
    "sns.barplot(x=total_sales_by_country.sort_values(ascending=False).head(10), y=total_sales_by_country.sort_values(ascending=False).head(10).index, ax=ax[1], orient='h')\n",
    "ax[1].set_title(\"Total Sales by Country\")\n",
    "\n",
    "# Tunjukkan plotnya\n",
    "plt.show()\n"
   ]
  },
  {
   "cell_type": "markdown",
   "id": "8333478d",
   "metadata": {
    "papermill": {
     "duration": 0.018036,
     "end_time": "2023-01-25T09:40:37.092981",
     "exception": false,
     "start_time": "2023-01-25T09:40:37.074945",
     "status": "completed"
    },
    "tags": []
   },
   "source": [
    "**4. Produk mana yang memiliki penjualan tertinggi, dan di negara mana?**"
   ]
  },
  {
   "cell_type": "code",
   "execution_count": 30,
   "id": "350e180d",
   "metadata": {
    "execution": {
     "iopub.execute_input": "2023-01-25T09:40:37.132717Z",
     "iopub.status.busy": "2023-01-25T09:40:37.131496Z",
     "iopub.status.idle": "2023-01-25T09:40:37.580892Z",
     "shell.execute_reply": "2023-01-25T09:40:37.579807Z"
    },
    "papermill": {
     "duration": 0.47175,
     "end_time": "2023-01-25T09:40:37.583364",
     "exception": false,
     "start_time": "2023-01-25T09:40:37.111614",
     "status": "completed"
    },
    "scrolled": true,
    "tags": []
   },
   "outputs": [
    {
     "name": "stdout",
     "output_type": "stream",
     "text": [
      "Description                         Country       \n",
      "PAPER CRAFT , LITTLE BIRDIE         United Kingdom    168469.60\n",
      "REGENCY CAKESTAND 3 TIER            United Kingdom    110990.20\n",
      "WHITE HANGING HEART T-LIGHT HOLDER  United Kingdom     94858.60\n",
      "MEDIUM CERAMIC TOP STORAGE JAR      United Kingdom     80291.44\n",
      "JUMBO BAG RED RETROSPOT             United Kingdom     77371.57\n",
      "PARTY BUNTING                       United Kingdom     63109.38\n",
      "ASSORTED COLOUR BIRD ORNAMENT       United Kingdom     52395.99\n",
      "CHILLI LIGHTS                       United Kingdom     45505.31\n",
      "PAPER CHAIN KIT 50'S CHRISTMAS      United Kingdom     40451.08\n",
      "PICNIC BASKET WICKER 60 PIECES      United Kingdom     39619.50\n",
      "Name: TotalPrice, dtype: float64\n"
     ]
    },
    {
     "data": {
      "image/png": "[encoded data removed]",
      "text/plain": [
       "<Figure size 864x504 with 1 Axes>"
      ]
     },
     "metadata": {},
     "output_type": "display_data"
    }
   ],
   "source": [
    "# Kami dapat menjawab pertanyaan ini dengan mengelompokkan data berdasarkan produk dan negara dan menjumlahkan total penjualan untuk setiap grup\n",
    "product_sales_by_country = df_clean.groupby(['Description', 'Country'])['TotalPrice'].sum()\n",
    "print(product_sales_by_country.sort_values(ascending=False).head(10))\n",
    "\n",
    "# Sekarang, kita dapat menggunakan Seaborn untuk memplot 10 produk teratas dengan penjualan tertinggi, bersama dengan negara tempat mereka memiliki penjualan tertinggi\n",
    "top_products = product_sales_by_country.sort_values(ascending=False).head(10).reset_index()\n",
    "fig, ax=plt.subplots(figsize=(12, 7))\n",
    "ax=sns.barplot(x='Country', y='TotalPrice', hue='Description', data=top_products, )\n",
    "plt.title(\"Highest product sales by country\")\n",
    "plt.xlabel('Country')\n",
    "plt.ylabel('Total Sales')\n",
    "plt.show()"
   ]
  },
  {
   "cell_type": "markdown",
   "id": "ca04b180",
   "metadata": {
    "papermill": {
     "duration": 0.018885,
     "end_time": "2023-01-25T09:40:37.621559",
     "exception": false,
     "start_time": "2023-01-25T09:40:37.602674",
     "status": "completed"
    },
    "tags": []
   },
   "source": [
    "**5. Apakah beberapa pelanggan memiliki nilai atau jumlah transaksi rata-rata yang lebih tinggi daripada yang lain?**"
   ]
  },
  {
   "cell_type": "code",
   "execution_count": 32,
   "id": "6ff6275e",
   "metadata": {
    "execution": {
     "iopub.execute_input": "2023-01-25T09:40:37.662096Z",
     "iopub.status.busy": "2023-01-25T09:40:37.660950Z",
     "iopub.status.idle": "2023-01-25T09:40:37.983621Z",
     "shell.execute_reply": "2023-01-25T09:40:37.982633Z"
    },
    "papermill": {
     "duration": 0.3451,
     "end_time": "2023-01-25T09:40:37.985692",
     "exception": false,
     "start_time": "2023-01-25T09:40:37.640592",
     "status": "completed"
    },
    "scrolled": true,
    "tags": []
   },
   "outputs": [
    {
     "name": "stdout",
     "output_type": "stream",
     "text": [
      "            avgCustomerPrice  avgCustomerQuantity\n",
      "CustomerID                                       \n",
      "12346.0         77183.600000         74215.000000\n",
      "12347.0            23.681319            13.505495\n",
      "12348.0            57.975484            75.516129\n",
      "12349.0            24.076027             8.643836\n",
      "12350.0            19.670588            11.588235\n"
     ]
    },
    {
     "data": {
      "image/png": "[encoded data removed]",
      "text/plain": [
       "<Figure size 432x288 with 1 Axes>"
      ]
     },
     "metadata": {},
     "output_type": "display_data"
    }
   ],
   "source": [
    "# Kami dapat menjawab pertanyaan ini dengan mengelompokkan data berdasarkan pelanggan dan menghitung rata-rata untuk kolom 'TotalPrice' dan 'Quantity'\n",
    "mean_price_by_customer = df_clean.groupby('CustomerID')['TotalPrice'].mean()\n",
    "mean_quantity_by_customer = df_clean.groupby('CustomerID')['Quantity'].mean()\n",
    "\n",
    "# Sekarang, kami akan memasukkan data num_customers_by_year_and_country dan retention_rate_by_year_and_country ke dalam satu dataframe\n",
    "df_avgtranq = pd.concat([mean_price_by_customer, mean_quantity_by_customer], axis=1)\n",
    "df_avgtranq.columns = ['avgCustomerPrice', 'avgCustomerQuantity']\n",
    "\n",
    "print(df_avgtranq.head())\n",
    "sns.scatterplot(x='avgCustomerPrice', y='avgCustomerQuantity', data=df_avgtranq)\n",
    "plt.show()\n"
   ]
  },
  {
   "cell_type": "markdown",
   "id": "125a638a",
   "metadata": {
    "papermill": {
     "duration": 0.019492,
     "end_time": "2023-01-25T09:40:38.025019",
     "exception": false,
     "start_time": "2023-01-25T09:40:38.005527",
     "status": "completed"
    },
    "tags": []
   },
   "source": [
    "**6. Apakah beberapa produk memiliki nilai atau jumlah transaksi rata-rata yang lebih tinggi daripada yang lain?**"
   ]
  },
  {
   "cell_type": "code",
   "execution_count": 33,
   "id": "688e6233",
   "metadata": {
    "execution": {
     "iopub.execute_input": "2023-01-25T09:40:38.067049Z",
     "iopub.status.busy": "2023-01-25T09:40:38.066331Z",
     "iopub.status.idle": "2023-01-25T09:40:38.430955Z",
     "shell.execute_reply": "2023-01-25T09:40:38.429936Z"
    },
    "papermill": {
     "duration": 0.388534,
     "end_time": "2023-01-25T09:40:38.433387",
     "exception": false,
     "start_time": "2023-01-25T09:40:38.044853",
     "status": "completed"
    },
    "scrolled": true,
    "tags": []
   },
   "outputs": [
    {
     "name": "stdout",
     "output_type": "stream",
     "text": [
      "           avgProductPrice  avgProductQuantity\n",
      "StockCode                                     \n",
      "10002            14.276531           16.795918\n",
      "10080             5.448095           13.857143\n",
      "10120             1.351000            6.433333\n",
      "10123C            1.083333            1.666667\n",
      "10124A            1.344000            3.200000\n",
      "10124G            1.785000            4.250000\n",
      "10125            14.535937           19.156250\n",
      "10133             9.222661           19.225806\n",
      "10135            14.766033           16.016529\n",
      "11001            30.515625           19.562500\n"
     ]
    },
    {
     "data": {
      "image/png": "[encoded data removed]",
      "text/plain": [
       "<Figure size 432x288 with 1 Axes>"
      ]
     },
     "metadata": {},
     "output_type": "display_data"
    }
   ],
   "source": [
    "# Kita dapat menjawab pertanyaan ini dengan mengelompokkan data berdasarkan produk dan menghitung rata-rata untuk kolom 'TotalPrice' dan 'Quantity'\n",
    "mean_price_by_product = df_clean.groupby('StockCode')['TotalPrice'].mean()\n",
    "mean_quantity_by_product = df_clean.groupby('StockCode')['Quantity'].mean()\n",
    "\n",
    "# Sekarang, kami akan memasukkan data num_customers_by_year_and_country dan retention_rate_by_year_and_country ke dalam satu dataframe\n",
    "df_avgtranvq = pd.concat([mean_price_by_product, mean_quantity_by_product], axis=1)\n",
    "df_avgtranvq.columns = ['avgProductPrice', 'avgProductQuantity']\n",
    "print(df_avgtranvq.head(10))\n",
    "\n",
    "plt.scatter(df_avgtranvq['avgProductPrice'], df_avgtranvq['avgProductQuantity'])\n",
    "plt.xlabel('Average Product Price')\n",
    "plt.ylabel('Average Product Quantity')\n",
    "plt.title('Average Product Price vs Average Product Quantity')\n",
    "plt.show()"
   ]
  },
  {
   "cell_type": "markdown",
   "id": "d448235f",
   "metadata": {
    "papermill": {
     "duration": 0.01997,
     "end_time": "2023-01-25T09:40:38.473704",
     "exception": false,
     "start_time": "2023-01-25T09:40:38.453734",
     "status": "completed"
    },
    "tags": []
   },
   "source": [
    "**7. Produk apa yang paling populer berdasarkan penjualan?**"
   ]
  },
  {
   "cell_type": "code",
   "execution_count": 22,
   "id": "8264fbc3",
   "metadata": {
    "execution": {
     "iopub.execute_input": "2023-01-25T09:40:38.515838Z",
     "iopub.status.busy": "2023-01-25T09:40:38.514995Z",
     "iopub.status.idle": "2023-01-25T09:40:39.017237Z",
     "shell.execute_reply": "2023-01-25T09:40:39.016247Z"
    },
    "papermill": {
     "duration": 0.526016,
     "end_time": "2023-01-25T09:40:39.019703",
     "exception": false,
     "start_time": "2023-01-25T09:40:38.493687",
     "status": "completed"
    },
    "scrolled": true,
    "tags": []
   },
   "outputs": [
    {
     "name": "stdout",
     "output_type": "stream",
     "text": [
      "Description\n",
      "PAPER CRAFT , LITTLE BIRDIE           168469.60\n",
      "REGENCY CAKESTAND 3 TIER              142592.95\n",
      "WHITE HANGING HEART T-LIGHT HOLDER    100448.15\n",
      "JUMBO BAG RED RETROSPOT                85220.78\n",
      "MEDIUM CERAMIC TOP STORAGE JAR         81416.73\n",
      "POSTAGE                                77803.96\n",
      "PARTY BUNTING                          68844.33\n",
      "ASSORTED COLOUR BIRD ORNAMENT          56580.34\n",
      "Manual                                 53779.93\n",
      "RABBIT NIGHT LIGHT                     51346.20\n",
      "Name: TotalPrice, dtype: float64\n"
     ]
    },
    {
     "data": {
      "image/png": "[encoded data removed]",
      "text/plain": [
       "<Figure size 432x288 with 1 Axes>"
      ]
     },
     "metadata": {},
     "output_type": "display_data"
    }
   ],
   "source": [
    "# Kelompokkan data berdasarkan produk dan jumlahkan total penjualan untuk setiap produk\n",
    "product_sales = df_clean.groupby('Description')['TotalPrice'].sum()\n",
    "\n",
    "# Urutkan data berdasarkan total penjualan dan pilih 10 produk teratas\n",
    "top_products = product_sales.sort_values(ascending=False).head(10)\n",
    "print(top_products)\n",
    "\n",
    "# Plot the data as a horizontal bar chart\n",
    "top_products.plot(kind='barh')\n",
    "plt.title(\"Most popular product by sales\")\n",
    "plt.xlabel(\"Total Price\")\n",
    "plt.show()\n"
   ]
  },
  {
   "cell_type": "markdown",
   "id": "47391393",
   "metadata": {
    "papermill": {
     "duration": 0.02075,
     "end_time": "2023-01-25T09:40:39.061950",
     "exception": false,
     "start_time": "2023-01-25T09:40:39.041200",
     "status": "completed"
    },
    "tags": []
   },
   "source": [
    "**8. Produk apa yang paling populer, dan bagaimana variasi penjualan produk ini dari waktu ke waktu?**"
   ]
  },
  {
   "cell_type": "code",
   "execution_count": 34,
   "id": "568ec25c",
   "metadata": {
    "execution": {
     "iopub.execute_input": "2023-01-25T09:40:39.105817Z",
     "iopub.status.busy": "2023-01-25T09:40:39.105064Z",
     "iopub.status.idle": "2023-01-25T09:40:39.661082Z",
     "shell.execute_reply": "2023-01-25T09:40:39.659922Z"
    },
    "papermill": {
     "duration": 0.580746,
     "end_time": "2023-01-25T09:40:39.663577",
     "exception": false,
     "start_time": "2023-01-25T09:40:39.082831",
     "status": "completed"
    },
    "scrolled": true,
    "tags": []
   },
   "outputs": [
    {
     "name": "stdout",
     "output_type": "stream",
     "text": [
      "Description                          InvoiceDate        \n",
      "PAPER CRAFT , LITTLE BIRDIE          2011-12-09 09:15:00    168469.60\n",
      "MEDIUM CERAMIC TOP STORAGE JAR       2011-01-18 10:01:00     77183.60\n",
      "PICNIC BASKET WICKER 60 PIECES       2011-06-10 15:28:00     38970.00\n",
      "POSTAGE                              2011-05-03 13:46:00      8142.75\n",
      "SET OF TEA COFFEE SUGAR TINS PANTRY  2011-09-20 11:05:00      7144.72\n",
      "FAIRY CAKE FLANNEL ASSORTED COLOUR   2011-01-11 12:55:00      6539.40\n",
      "                                     2011-04-18 13:20:00      6539.40\n",
      "Manual                               2011-10-19 11:18:00      6068.06\n",
      "RABBIT NIGHT LIGHT                   2011-10-27 12:11:00      4992.00\n",
      "WHITE HANGING HEART T-LIGHT HOLDER   2011-01-11 12:55:00      4921.50\n",
      "Name: TotalPrice, dtype: float64\n"
     ]
    },
    {
     "data": {
      "image/png": "[encoded data removed]",
      "text/plain": [
       "<Figure size 432x288 with 1 Axes>"
      ]
     },
     "metadata": {},
     "output_type": "display_data"
    }
   ],
   "source": [
    "# Kelompokkan data berdasarkan produk dan jumlahkan total penjualan untuk setiap produk\n",
    "product_sales_by_date = df_clean.groupby(['Description', 'InvoiceDate'])['TotalPrice'].sum()\n",
    "\n",
    "# Urutkan data berdasarkan total penjualan dan pilih 10 produk teratas\n",
    "top_products = product_sales_by_date.sort_values(ascending=False).head(10)\n",
    "print(top_products)\n",
    "\n",
    "# Plot the data as a horizontal bar chart\n",
    "top_products.plot(kind='barh')\n",
    "plt.title(\"Most popular product by sales with time variation\")\n",
    "plt.xlabel(\"Total Price\")\n",
    "plt.show()\n"
   ]
  },
  {
   "cell_type": "markdown",
   "id": "1aec26de",
   "metadata": {
    "papermill": {
     "duration": 0.021232,
     "end_time": "2023-01-25T09:40:39.706696",
     "exception": false,
     "start_time": "2023-01-25T09:40:39.685464",
     "status": "completed"
    },
    "tags": []
   },
   "source": [
    "**9. Menganalisis dan memvisualisasikan total penjualan per tahun, bulan, transaksi per minggu, transaksi per hari, dan transaksi per jam**"
   ]
  },
  {
   "cell_type": "code",
   "execution_count": 35,
   "id": "ee453090",
   "metadata": {
    "execution": {
     "iopub.execute_input": "2023-01-25T09:40:39.751733Z",
     "iopub.status.busy": "2023-01-25T09:40:39.751347Z",
     "iopub.status.idle": "2023-01-25T09:40:39.790133Z",
     "shell.execute_reply": "2023-01-25T09:40:39.789158Z"
    },
    "papermill": {
     "duration": 0.064164,
     "end_time": "2023-01-25T09:40:39.792447",
     "exception": false,
     "start_time": "2023-01-25T09:40:39.728283",
     "status": "completed"
    },
    "scrolled": true,
    "tags": []
   },
   "outputs": [
    {
     "data": {
      "text/html": [
       "<div>\n",
       "<style scoped>\n",
       "    .dataframe tbody tr th:only-of-type {\n",
       "        vertical-align: middle;\n",
       "    }\n",
       "\n",
       "    .dataframe tbody tr th {\n",
       "        vertical-align: top;\n",
       "    }\n",
       "\n",
       "    .dataframe thead th {\n",
       "        text-align: right;\n",
       "    }\n",
       "</style>\n",
       "<table border=\"1\" class=\"dataframe\">\n",
       "  <thead>\n",
       "    <tr style=\"text-align: right;\">\n",
       "      <th></th>\n",
       "      <th>InvoiceNo</th>\n",
       "      <th>StockCode</th>\n",
       "      <th>Description</th>\n",
       "      <th>Quantity</th>\n",
       "      <th>InvoiceDate</th>\n",
       "      <th>UnitPrice</th>\n",
       "      <th>CustomerID</th>\n",
       "      <th>Country</th>\n",
       "      <th>TotalPrice</th>\n",
       "      <th>canceled</th>\n",
       "      <th>Year</th>\n",
       "    </tr>\n",
       "  </thead>\n",
       "  <tbody>\n",
       "    <tr>\n",
       "      <th>0</th>\n",
       "      <td>536365</td>\n",
       "      <td>85123A</td>\n",
       "      <td>WHITE HANGING HEART T-LIGHT HOLDER</td>\n",
       "      <td>6</td>\n",
       "      <td>2010-12-01 08:26:00</td>\n",
       "      <td>2.55</td>\n",
       "      <td>17850.0</td>\n",
       "      <td>United Kingdom</td>\n",
       "      <td>15.30</td>\n",
       "      <td>False</td>\n",
       "      <td>2010</td>\n",
       "    </tr>\n",
       "    <tr>\n",
       "      <th>1</th>\n",
       "      <td>536365</td>\n",
       "      <td>71053</td>\n",
       "      <td>WHITE METAL LANTERN</td>\n",
       "      <td>6</td>\n",
       "      <td>2010-12-01 08:26:00</td>\n",
       "      <td>3.39</td>\n",
       "      <td>17850.0</td>\n",
       "      <td>United Kingdom</td>\n",
       "      <td>20.34</td>\n",
       "      <td>False</td>\n",
       "      <td>2010</td>\n",
       "    </tr>\n",
       "  </tbody>\n",
       "</table>\n",
       "</div>"
      ],
      "text/plain": [
       "  InvoiceNo StockCode                         Description  Quantity  \\\n",
       "0    536365    85123A  WHITE HANGING HEART T-LIGHT HOLDER         6   \n",
       "1    536365     71053                 WHITE METAL LANTERN         6   \n",
       "\n",
       "          InvoiceDate  UnitPrice  CustomerID         Country  TotalPrice  \\\n",
       "0 2010-12-01 08:26:00       2.55     17850.0  United Kingdom       15.30   \n",
       "1 2010-12-01 08:26:00       3.39     17850.0  United Kingdom       20.34   \n",
       "\n",
       "   canceled  Year  \n",
       "0     False  2010  \n",
       "1     False  2010  "
      ]
     },
     "execution_count": 35,
     "metadata": {},
     "output_type": "execute_result"
    }
   ],
   "source": [
    "# ayo salin kerangka data df_clean kita untuk menghindari distorsi pada kerangka data kita\n",
    "df1 = df_clean.copy()\n",
    "\n",
    "df1.head(2)"
   ]
  },
  {
   "cell_type": "code",
   "execution_count": 36,
   "id": "e64059ea",
   "metadata": {
    "execution": {
     "iopub.execute_input": "2023-01-25T09:40:39.837946Z",
     "iopub.status.busy": "2023-01-25T09:40:39.837563Z",
     "iopub.status.idle": "2023-01-25T09:40:43.646318Z",
     "shell.execute_reply": "2023-01-25T09:40:43.645217Z"
    },
    "papermill": {
     "duration": 3.834496,
     "end_time": "2023-01-25T09:40:43.648783",
     "exception": false,
     "start_time": "2023-01-25T09:40:39.814287",
     "status": "completed"
    },
    "scrolled": true,
    "tags": []
   },
   "outputs": [
    {
     "data": {
      "image/png": "[encoded data removed]",
      "text/plain": [
       "<Figure size 720x360 with 2 Axes>"
      ]
     },
     "metadata": {},
     "output_type": "display_data"
    },
    {
     "data": {
      "image/png": "[encoded data removed]",
      "text/plain": [
       "<Figure size 720x360 with 2 Axes>"
      ]
     },
     "metadata": {},
     "output_type": "display_data"
    },
    {
     "data": {
      "image/png": "[encoded data removed]",
      "text/plain": [
       "<Figure size 720x360 with 2 Axes>"
      ]
     },
     "metadata": {},
     "output_type": "display_data"
    },
    {
     "data": {
      "image/png": "[encoded data removed]",
      "text/plain": [
       "<Figure size 720x360 with 2 Axes>"
      ]
     },
     "metadata": {},
     "output_type": "display_data"
    },
    {
     "data": {
      "image/png": "[encoded data removed]",
      "text/plain": [
       "<Figure size 720x360 with 2 Axes>"
      ]
     },
     "metadata": {},
     "output_type": "display_data"
    }
   ],
   "source": [
    "# Sekarang, kita akan mengelompokkan data berdasarkan tahun dan menjumlahkan total sales setiap tahun\n",
    "df1['InvoiceDate'] = pd.to_datetime(df1['InvoiceDate'])\n",
    "df1['Year'] = df1['InvoiceDate'].dt.year\n",
    "total_sales_by_year = df1.groupby('Year')['TotalPrice'].sum()\n",
    "\n",
    "# Selanjutnya, kita akan mengelompokkan data berdasarkan bulan dan menjumlahkan total Sale setiap bulan\n",
    "df1['Month'] = df1['InvoiceDate'].dt.month\n",
    "total_sales_by_month = df1.groupby('Month')['TotalPrice'].sum()\n",
    "\n",
    "# Selanjutnya, kita akan mengelompokkan data berdasarkan minggu dan menghitung jumlah transaksi setiap minggu\n",
    "df1['Week'] = df1['InvoiceDate'].dt.week\n",
    "num_transactions_by_week = df1.groupby('Week')['InvoiceNo'].nunique()\n",
    "\n",
    "# Selanjutnya, kita akan mengelompokkan data berdasarkan hari dan menghitung jumlah transaksi setiap harinya\n",
    "df1['Day'] = df1['InvoiceDate'].dt.day\n",
    "num_transactions_by_day = df1.groupby('Day')['InvoiceNo'].nunique()\n",
    "\n",
    "# Terakhir, kita akan mengelompokkan data berdasarkan jam dan menghitung jumlah transaksi untuk setiap jam\n",
    "df1['Hour'] = df1['InvoiceDate'].dt.hour\n",
    "num_transactions_by_hour = df1.groupby('Hour')['InvoiceNo'].nunique()\n",
    "\n",
    "# Buat daftar dataframe untuk diulang\n",
    "dataframes = [total_sales_by_year, total_sales_by_month, num_transactions_by_week, num_transactions_by_day, num_transactions_by_hour]\n",
    "\n",
    "# Buat daftar judul untuk masing-masing dataframe\n",
    "titles = ['Total Sales by Year', 'Total Sales by Month', 'Number of Transactions by Week', 'Number of Transactions by Day', 'Number of Transactions by Hour']\n",
    "\n",
    "# Ulangi bingkai data dan plot barplot dan lineplot untuk masing-masingnya\n",
    "for df1, title in zip(dataframes, titles):\n",
    "  fig, (ax1, ax2) = plt.subplots(1, 2, figsize=(10, 5))\n",
    "  sns.barplot(x=df1.index, y=df1.values, ax=ax1)\n",
    "  ax1.set_title(title)\n",
    "  if 'Year' in title:\n",
    "    ax1.set_xlabel('Year')\n",
    "  elif 'Month' in title:\n",
    "    ax1.set_xlabel('Month')\n",
    "  elif 'Week' in title:\n",
    "    ax1.set_xlabel('Week')\n",
    "  elif 'Day' in title:\n",
    "    ax1.set_xlabel('Day')\n",
    "  elif 'Hour' in title:\n",
    "    ax1.set_xlabel('Hour')\n",
    "  ax1.set_ylabel('Total Sales/Number of Transactions')\n",
    "  sns.lineplot(x=df1.index, y=df1.values, ax=ax2)\n",
    "  ax2.set_title(title)\n",
    "  if 'Year' in title:\n",
    "    ax2.set_xlabel('Year')\n",
    "  elif 'Month' in title:\n",
    "    ax2.set_xlabel('Month')\n",
    "  elif 'Week' in title:\n",
    "    ax2.set_xlabel('Week')\n",
    "  elif 'Day' in title:\n",
    "    ax2.set_xlabel('Day')\n",
    "  elif 'Hour' in title:\n",
    "    ax2.set_xlabel('Hour')\n",
    "    ax2.set_ylabel('Total Sales/Number of Transactions')\n",
    "plt.show()\n",
    "\n"
   ]
  },
  {
   "cell_type": "markdown",
   "id": "dcee3959",
   "metadata": {
    "papermill": {
     "duration": 0.02708,
     "end_time": "2023-01-25T09:40:43.700938",
     "exception": false,
     "start_time": "2023-01-25T09:40:43.673858",
     "status": "completed"
    },
    "tags": []
   },
   "source": [
    "**10. Berapa tingkat retensi pelanggan secara keseluruhan, dan bagaimana perbedaannya menurut negara atau faktor lainnya?**"
   ]
  },
  {
   "cell_type": "code",
   "execution_count": 37,
   "id": "610d843d",
   "metadata": {
    "execution": {
     "iopub.execute_input": "2023-01-25T09:40:43.752741Z",
     "iopub.status.busy": "2023-01-25T09:40:43.752312Z",
     "iopub.status.idle": "2023-01-25T09:40:43.839186Z",
     "shell.execute_reply": "2023-01-25T09:40:43.838103Z"
    },
    "papermill": {
     "duration": 0.115785,
     "end_time": "2023-01-25T09:40:43.841597",
     "exception": false,
     "start_time": "2023-01-25T09:40:43.725812",
     "status": "completed"
    },
    "scrolled": true,
    "tags": []
   },
   "outputs": [
    {
     "data": {
      "text/html": [
       "<div>\n",
       "<style scoped>\n",
       "    .dataframe tbody tr th:only-of-type {\n",
       "        vertical-align: middle;\n",
       "    }\n",
       "\n",
       "    .dataframe tbody tr th {\n",
       "        vertical-align: top;\n",
       "    }\n",
       "\n",
       "    .dataframe thead th {\n",
       "        text-align: right;\n",
       "    }\n",
       "</style>\n",
       "<table border=\"1\" class=\"dataframe\">\n",
       "  <thead>\n",
       "    <tr style=\"text-align: right;\">\n",
       "      <th></th>\n",
       "      <th></th>\n",
       "      <th>NumCustomers</th>\n",
       "      <th>RetentionRate</th>\n",
       "    </tr>\n",
       "    <tr>\n",
       "      <th>Year</th>\n",
       "      <th>Country</th>\n",
       "      <th></th>\n",
       "      <th></th>\n",
       "    </tr>\n",
       "  </thead>\n",
       "  <tbody>\n",
       "    <tr>\n",
       "      <th>2011</th>\n",
       "      <th>United Kingdom</th>\n",
       "      <td>3814</td>\n",
       "      <td>1906.0</td>\n",
       "    </tr>\n",
       "    <tr>\n",
       "      <th>2010</th>\n",
       "      <th>United Kingdom</th>\n",
       "      <td>815</td>\n",
       "      <td>406.5</td>\n",
       "    </tr>\n",
       "    <tr>\n",
       "      <th>2011</th>\n",
       "      <th>Spain</th>\n",
       "      <td>29</td>\n",
       "      <td>28.0</td>\n",
       "    </tr>\n",
       "    <tr>\n",
       "      <th>2010</th>\n",
       "      <th>France</th>\n",
       "      <td>15</td>\n",
       "      <td>14.0</td>\n",
       "    </tr>\n",
       "    <tr>\n",
       "      <th rowspan=\"4\" valign=\"top\">2011</th>\n",
       "      <th>Belgium</th>\n",
       "      <td>25</td>\n",
       "      <td>11.5</td>\n",
       "    </tr>\n",
       "    <tr>\n",
       "      <th>Finland</th>\n",
       "      <td>12</td>\n",
       "      <td>11.0</td>\n",
       "    </tr>\n",
       "    <tr>\n",
       "      <th>Denmark</th>\n",
       "      <td>9</td>\n",
       "      <td>8.0</td>\n",
       "    </tr>\n",
       "    <tr>\n",
       "      <th>France</th>\n",
       "      <td>84</td>\n",
       "      <td>6.0</td>\n",
       "    </tr>\n",
       "    <tr>\n",
       "      <th rowspan=\"2\" valign=\"top\">2010</th>\n",
       "      <th>Portugal</th>\n",
       "      <td>6</td>\n",
       "      <td>5.0</td>\n",
       "    </tr>\n",
       "    <tr>\n",
       "      <th>Belgium</th>\n",
       "      <td>4</td>\n",
       "      <td>3.0</td>\n",
       "    </tr>\n",
       "  </tbody>\n",
       "</table>\n",
       "</div>"
      ],
      "text/plain": [
       "                     NumCustomers  RetentionRate\n",
       "Year Country                                    \n",
       "2011 United Kingdom          3814         1906.0\n",
       "2010 United Kingdom           815          406.5\n",
       "2011 Spain                     29           28.0\n",
       "2010 France                    15           14.0\n",
       "2011 Belgium                   25           11.5\n",
       "     Finland                   12           11.0\n",
       "     Denmark                    9            8.0\n",
       "     France                    84            6.0\n",
       "2010 Portugal                   6            5.0\n",
       "     Belgium                    4            3.0"
      ]
     },
     "execution_count": 37,
     "metadata": {},
     "output_type": "execute_result"
    }
   ],
   "source": [
    "# Kami dapat menjawab pertanyaan ini dengan menghitung jumlah pelanggan unik untuk setiap tahun dan negara serta menghitung tingkat retensi sebagai persentase\n",
    "num_customers_by_year_and_country = df_clean.groupby(['Year', 'Country'])['CustomerID'].nunique()\n",
    "retention_rate_by_year_and_country = num_customers_by_year_and_country.pct_change().fillna(0)\n",
    "\n",
    "# Sekarang, kami akan menempatkan data num_customers_by_year_and_country dan retention_rate_by_year_and_country ke dalam satu kerangka data\n",
    "df_retention = pd.concat([num_customers_by_year_and_country, retention_rate_by_year_and_country], axis=1)\n",
    "df_retention.columns = ['NumCustomers', 'RetentionRate']\n",
    "\n",
    "# Terakhir, kami akan mengurutkan data dalam urutan menurun berdasarkan tingkat retensi\n",
    "df_retention = df_retention.sort_values(by='RetentionRate', ascending=False)\n",
    "df_retention.head(10)\n"
   ]
  },
  {
   "cell_type": "code",
   "execution_count": 38,
   "id": "de740ee8",
   "metadata": {
    "execution": {
     "iopub.execute_input": "2023-01-25T09:40:43.893455Z",
     "iopub.status.busy": "2023-01-25T09:40:43.892794Z",
     "iopub.status.idle": "2023-01-25T09:40:43.974487Z",
     "shell.execute_reply": "2023-01-25T09:40:43.972798Z"
    },
    "papermill": {
     "duration": 0.110664,
     "end_time": "2023-01-25T09:40:43.977450",
     "exception": false,
     "start_time": "2023-01-25T09:40:43.866786",
     "status": "completed"
    },
    "scrolled": true,
    "tags": []
   },
   "outputs": [
    {
     "name": "stderr",
     "output_type": "stream",
     "text": [
      "C:\\Users\\Dell\\AppData\\Local\\Temp\\ipykernel_9972\\709265337.py:14: SettingWithCopyWarning: \n",
      "A value is trying to be set on a copy of a slice from a DataFrame.\n",
      "Try using .loc[row_indexer,col_indexer] = value instead\n",
      "\n",
      "See the caveats in the documentation: https://pandas.pydata.org/pandas-docs/stable/user_guide/indexing.html#returning-a-view-versus-a-copy\n",
      "  df_clean['NumTransactions'] = df_with_num_transactions['NumTransactions']\n",
      "C:\\Users\\Dell\\AppData\\Local\\Temp\\ipykernel_9972\\709265337.py:17: SettingWithCopyWarning: \n",
      "A value is trying to be set on a copy of a slice from a DataFrame\n",
      "\n",
      "See the caveats in the documentation: https://pandas.pydata.org/pandas-docs/stable/user_guide/indexing.html#returning-a-view-versus-a-copy\n",
      "  df_clean['NumTransactions'].fillna(0, inplace=True)\n"
     ]
    },
    {
     "data": {
      "text/html": [
       "<div>\n",
       "<style scoped>\n",
       "    .dataframe tbody tr th:only-of-type {\n",
       "        vertical-align: middle;\n",
       "    }\n",
       "\n",
       "    .dataframe tbody tr th {\n",
       "        vertical-align: top;\n",
       "    }\n",
       "\n",
       "    .dataframe thead th {\n",
       "        text-align: right;\n",
       "    }\n",
       "</style>\n",
       "<table border=\"1\" class=\"dataframe\">\n",
       "  <thead>\n",
       "    <tr style=\"text-align: right;\">\n",
       "      <th></th>\n",
       "      <th>CustomerID</th>\n",
       "      <th>NumTransactions</th>\n",
       "    </tr>\n",
       "  </thead>\n",
       "  <tbody>\n",
       "    <tr>\n",
       "      <th>0</th>\n",
       "      <td>17850.0</td>\n",
       "      <td>297</td>\n",
       "    </tr>\n",
       "    <tr>\n",
       "      <th>1</th>\n",
       "      <td>13047.0</td>\n",
       "      <td>172</td>\n",
       "    </tr>\n",
       "    <tr>\n",
       "      <th>2</th>\n",
       "      <td>12583.0</td>\n",
       "      <td>247</td>\n",
       "    </tr>\n",
       "    <tr>\n",
       "      <th>3</th>\n",
       "      <td>13748.0</td>\n",
       "      <td>28</td>\n",
       "    </tr>\n",
       "    <tr>\n",
       "      <th>4</th>\n",
       "      <td>15100.0</td>\n",
       "      <td>3</td>\n",
       "    </tr>\n",
       "    <tr>\n",
       "      <th>5</th>\n",
       "      <td>15291.0</td>\n",
       "      <td>103</td>\n",
       "    </tr>\n",
       "    <tr>\n",
       "      <th>6</th>\n",
       "      <td>14688.0</td>\n",
       "      <td>327</td>\n",
       "    </tr>\n",
       "    <tr>\n",
       "      <th>7</th>\n",
       "      <td>17809.0</td>\n",
       "      <td>61</td>\n",
       "    </tr>\n",
       "    <tr>\n",
       "      <th>8</th>\n",
       "      <td>15311.0</td>\n",
       "      <td>2379</td>\n",
       "    </tr>\n",
       "    <tr>\n",
       "      <th>9</th>\n",
       "      <td>16098.0</td>\n",
       "      <td>67</td>\n",
       "    </tr>\n",
       "  </tbody>\n",
       "</table>\n",
       "</div>"
      ],
      "text/plain": [
       "   CustomerID  NumTransactions\n",
       "0     17850.0              297\n",
       "1     13047.0              172\n",
       "2     12583.0              247\n",
       "3     13748.0               28\n",
       "4     15100.0                3\n",
       "5     15291.0              103\n",
       "6     14688.0              327\n",
       "7     17809.0               61\n",
       "8     15311.0             2379\n",
       "9     16098.0               67"
      ]
     },
     "execution_count": 38,
     "metadata": {},
     "output_type": "execute_result"
    }
   ],
   "source": [
    "# kita hanya akan memilih CustomerID unik dari dataset\n",
    "df_unique_customers = df_clean[['CustomerID']].drop_duplicates()\n",
    "\n",
    "# Sekarang, kita akan mengelompokkan data berdasarkan pelanggan dan menghitung jumlah transaksi untuk setiap customers\n",
    "num_transactions_by_customer = df_clean.groupby('CustomerID')['InvoiceNo'].count()\n",
    "\n",
    "# Terakhir, kita akan menggabungkan dataframe 'num_transactions_by_customer' dengan dataframe 'df_unique_customers' untuk menambahkan kolom 'NumTransactions'\n",
    "df_with_num_transactions = pd.merge(df_unique_customers, num_transactions_by_customer, on='CustomerID')\n",
    "\n",
    "# Sekarang, kami akan mengganti nama kolom 'InvoiceNo' menjadi 'NumTransactions'\n",
    "df_with_num_transactions.rename(columns={'InvoiceNo': 'NumTransactions'}, inplace=True)\n",
    "\n",
    "# Sekarang, kita akan menambahkan kolom 'NumTransactions' dataframe 'df'\n",
    "df_clean['NumTransactions'] = df_with_num_transactions['NumTransactions']\n",
    "\n",
    "# Terakhir, kami akan mengganti semua nilai NaN di kolom 'NumTransactions' dengan 0\n",
    "df_clean['NumTransactions'].fillna(0, inplace=True)\n",
    "\n",
    "df_with_num_transactions.head(10)\n"
   ]
  },
  {
   "cell_type": "markdown",
   "id": "5ca6ada1",
   "metadata": {
    "papermill": {
     "duration": 0.024747,
     "end_time": "2023-01-25T09:40:44.027613",
     "exception": false,
     "start_time": "2023-01-25T09:40:44.002866",
     "status": "completed"
    },
    "tags": []
   },
   "source": [
    "**11. Bisakah kita memprediksi churn pelanggan atau nilai umur berdasarkan perilaku pembelian sebelumnya?**"
   ]
  },
  {
   "cell_type": "code",
   "execution_count": 39,
   "id": "50e6b604",
   "metadata": {
    "execution": {
     "iopub.execute_input": "2023-01-25T09:40:44.079855Z",
     "iopub.status.busy": "2023-01-25T09:40:44.079444Z",
     "iopub.status.idle": "2023-01-25T09:41:14.399306Z",
     "shell.execute_reply": "2023-01-25T09:41:14.398096Z"
    },
    "papermill": {
     "duration": 30.374685,
     "end_time": "2023-01-25T09:41:14.427418",
     "exception": false,
     "start_time": "2023-01-25T09:40:44.052733",
     "status": "completed"
    },
    "scrolled": true,
    "tags": []
   },
   "outputs": [
    {
     "name": "stderr",
     "output_type": "stream",
     "text": [
      "C:\\Users\\Dell\\AppData\\Local\\Temp\\ipykernel_9972\\1754800346.py:6: SettingWithCopyWarning: \n",
      "A value is trying to be set on a copy of a slice from a DataFrame.\n",
      "Try using .loc[row_indexer,col_indexer] = value instead\n",
      "\n",
      "See the caveats in the documentation: https://pandas.pydata.org/pandas-docs/stable/user_guide/indexing.html#returning-a-view-versus-a-copy\n",
      "  df_clean['churn'] = df_clean['Year'] < df_clean['Year'].max()\n"
     ]
    },
    {
     "name": "stdout",
     "output_type": "stream",
     "text": [
      "Accuracy: 0.9425394232581517\n"
     ]
    }
   ],
   "source": [
    "from sklearn.model_selection import train_test_split\n",
    "from sklearn.ensemble import RandomForestClassifier\n",
    "from sklearn.metrics import accuracy_score\n",
    "\n",
    "# Selanjutnya, kita akan membuat kolom baru bernama 'churn' yang menunjukkan apakah customers telah melakukan pembelian dalam setahun terakhir\n",
    "df_clean['churn'] = df_clean['Year'] < df_clean['Year'].max()\n",
    "\n",
    "# Sekarang, kami akan membuat kerangka data baru bernama 'X' yang berisi fitur yang akan kami gunakan untuk memprediksi churn (yaitu, perilaku pembelian sebelumnya)\n",
    "X = df_clean[['TotalPrice', 'Quantity', 'NumTransactions']]\n",
    "\n",
    "# Selanjutnya, kita akan membuat kerangka data baru bernama 'y' yang berisi variabel target (mis., churn)\n",
    "y = df_clean['churn']\n",
    "\n",
    "# Sekarang, kita akan membagi data menjadi set pelatihan dan set pengujian\n",
    "X_train, X_test, y_train, y_test = train_test_split(X, y, test_size=0.2)\n",
    "\n",
    "# Selanjutnya, akan train a random forest classifier dalam training data\n",
    "clf = RandomForestClassifier()\n",
    "clf.fit(X_train, y_train)\n",
    "\n",
    "# Sekarang, kita akan membuat prediksi pada data uji dan menghitung keakuratan model\n",
    "y_pred = clf.predict(X_test)\n",
    "accuracy = accuracy_score(y_test, y_pred)\n",
    "print('Accuracy:', accuracy)\n"
   ]
  },
  {
   "cell_type": "code",
   "execution_count": 40,
   "id": "a814c4b4",
   "metadata": {
    "execution": {
     "iopub.execute_input": "2023-01-25T09:41:14.481525Z",
     "iopub.status.busy": "2023-01-25T09:41:14.480781Z",
     "iopub.status.idle": "2023-01-25T09:41:14.492482Z",
     "shell.execute_reply": "2023-01-25T09:41:14.491433Z"
    },
    "papermill": {
     "duration": 0.041708,
     "end_time": "2023-01-25T09:41:14.494825",
     "exception": false,
     "start_time": "2023-01-25T09:41:14.453117",
     "status": "completed"
    },
    "scrolled": true,
    "tags": []
   },
   "outputs": [
    {
     "data": {
      "text/plain": [
       "False    371764\n",
       "True      26160\n",
       "Name: churn, dtype: int64"
      ]
     },
     "execution_count": 40,
     "metadata": {},
     "output_type": "execute_result"
    }
   ],
   "source": [
    "df_clean['churn'].value_counts()"
   ]
  },
  {
   "cell_type": "markdown",
   "id": "2768e7f7",
   "metadata": {
    "papermill": {
     "duration": 0.025361,
     "end_time": "2023-01-25T09:41:14.546048",
     "exception": false,
     "start_time": "2023-01-25T09:41:14.520687",
     "status": "completed"
    },
    "tags": []
   },
   "source": [
    "Hal ini menunjukkan bahwa model memiliki akurasi sekitar 94%. Artinya, model memprediksi status churn dengan benar (yaitu, apakah pelanggan akan melakukan pembelian di masa mendatang) untuk sekitar 94% data pengujian.\n",
    "\n",
    "Ini juga menunjukkan bahwa sekitar 26.160 pelanggan akan melakukan pembelian di masa mendatang."
   ]
  },
  {
   "cell_type": "markdown",
   "id": "10cbac38",
   "metadata": {
    "papermill": {
     "duration": 0.025424,
     "end_time": "2023-01-25T09:41:14.597754",
     "exception": false,
     "start_time": "2023-01-25T09:41:14.572330",
     "status": "completed"
    },
    "tags": []
   },
   "source": [
    "**12. Bisakah kita mengidentifikasi segmen atau persona pelanggan berdasarkan pola pembelian, dan bagaimana perbedaan segmen ini dalam hal perilaku pembeliannya?**"
   ]
  },
  {
   "cell_type": "code",
   "execution_count": 41,
   "id": "6218434b",
   "metadata": {
    "execution": {
     "iopub.execute_input": "2023-01-25T09:41:14.651011Z",
     "iopub.status.busy": "2023-01-25T09:41:14.650581Z",
     "iopub.status.idle": "2023-01-25T09:41:24.909392Z",
     "shell.execute_reply": "2023-01-25T09:41:24.908031Z"
    },
    "papermill": {
     "duration": 10.288216,
     "end_time": "2023-01-25T09:41:24.911795",
     "exception": false,
     "start_time": "2023-01-25T09:41:14.623579",
     "status": "completed"
    },
    "scrolled": true,
    "tags": []
   },
   "outputs": [
    {
     "name": "stderr",
     "output_type": "stream",
     "text": [
      "C:\\Users\\Dell\\AppData\\Local\\Temp\\ipykernel_9972\\1432944790.py:12: SettingWithCopyWarning: \n",
      "A value is trying to be set on a copy of a slice from a DataFrame.\n",
      "Try using .loc[row_indexer,col_indexer] = value instead\n",
      "\n",
      "See the caveats in the documentation: https://pandas.pydata.org/pandas-docs/stable/user_guide/indexing.html#returning-a-view-versus-a-copy\n",
      "  df_clean['Segment'] = kmeans.predict(X)\n"
     ]
    },
    {
     "data": {
      "image/png": "[encoded data removed]",
      "text/plain": [
       "<Figure size 432x288 with 1 Axes>"
      ]
     },
     "metadata": {},
     "output_type": "display_data"
    }
   ],
   "source": [
    "from sklearn.cluster import KMeans\n",
    "import seaborn as sns\n",
    "\n",
    "# Next, we'll create a new dataframe called 'X' that contains the features we'll use to cluster the customers (i.e., purchasing patterns)\n",
    "X = df_clean[['TotalPrice', 'Quantity', 'NumTransactions']]\n",
    "\n",
    "# Now, we'll use KMeans to cluster the customers into 5 segments\n",
    "kmeans = KMeans(n_clusters=5)\n",
    "kmeans.fit(X)\n",
    "\n",
    "# Next, we'll add a new column to the dataframe called 'Segment' that indicates the segment each customer belongs to\n",
    "df_clean['Segment'] = kmeans.predict(X)\n",
    "\n",
    "# Now, we can use Seaborn to plot the total price by segment\n",
    "sns.barplot(x='Segment', y='TotalPrice', data=df_clean)\n",
    "plt.xlabel('Segment')\n",
    "plt.ylabel('Total Price')\n",
    "plt.title('Total Price by Segment')\n",
    "plt.show()\n"
   ]
  },
  {
   "cell_type": "markdown",
   "id": "044372dd",
   "metadata": {
    "papermill": {
     "duration": 0.026632,
     "end_time": "2023-01-25T09:41:24.965202",
     "exception": false,
     "start_time": "2023-01-25T09:41:24.938570",
     "status": "completed"
    },
    "tags": []
   },
   "source": [
    "Di sini, kami menggunakan KMeans untuk mengelompokkan pelanggan menjadi 5 segmen berdasarkan fitur ini (yaitu, harga total, kuantitas, dan jumlah transaksi). Kolom baru yang disebut 'Segmen' ditambahkan ke kerangka data yang menunjukkan segmen yang dimiliki setiap pelanggan. Terakhir, kami menggunakan plot batang untuk memvisualisasikan harga total berdasarkan segmen."
   ]
  },
  {
   "cell_type": "markdown",
   "id": "7ce9b340",
   "metadata": {
    "papermill": {
     "duration": 0.025723,
     "end_time": "2023-01-25T09:41:25.016985",
     "exception": false,
     "start_time": "2023-01-25T09:41:24.991262",
     "status": "completed"
    },
    "tags": []
   },
   "source": [
    "**13. Dapatkah kami memprediksi produk mana yang kemungkinan akan dibeli bersama, dan menggunakan informasi ini untuk mengoptimalkan rekomendasi produk atau penawaran bundel?**"
   ]
  },
  {
   "cell_type": "markdown",
   "id": "a8b7d86b",
   "metadata": {
    "papermill": {
     "duration": 0.026111,
     "end_time": "2023-01-25T09:41:25.069391",
     "exception": false,
     "start_time": "2023-01-25T09:41:25.043280",
     "status": "completed"
    },
    "tags": []
   },
   "source": [
    "**Clustering Algorithm**"
   ]
  },
  {
   "cell_type": "code",
   "execution_count": 42,
   "id": "e3d3e5dd",
   "metadata": {
    "execution": {
     "iopub.execute_input": "2023-01-25T09:41:25.123541Z",
     "iopub.status.busy": "2023-01-25T09:41:25.123117Z",
     "iopub.status.idle": "2023-01-25T09:41:29.559480Z",
     "shell.execute_reply": "2023-01-25T09:41:29.558475Z"
    },
    "papermill": {
     "duration": 4.46629,
     "end_time": "2023-01-25T09:41:29.562308",
     "exception": false,
     "start_time": "2023-01-25T09:41:25.096018",
     "status": "completed"
    },
    "scrolled": true,
    "tags": []
   },
   "outputs": [
    {
     "name": "stderr",
     "output_type": "stream",
     "text": [
      "C:\\Users\\Dell\\AppData\\Local\\Temp\\ipykernel_9972\\382955438.py:7: SettingWithCopyWarning: \n",
      "A value is trying to be set on a copy of a slice from a DataFrame.\n",
      "Try using .loc[row_indexer,col_indexer] = value instead\n",
      "\n",
      "See the caveats in the documentation: https://pandas.pydata.org/pandas-docs/stable/user_guide/indexing.html#returning-a-view-versus-a-copy\n",
      "  X['Description'] = label_encoder.fit_transform(X['Description'])\n",
      "C:\\Users\\Dell\\AppData\\Local\\Temp\\ipykernel_9972\\382955438.py:14: SettingWithCopyWarning: \n",
      "A value is trying to be set on a copy of a slice from a DataFrame.\n",
      "Try using .loc[row_indexer,col_indexer] = value instead\n",
      "\n",
      "See the caveats in the documentation: https://pandas.pydata.org/pandas-docs/stable/user_guide/indexing.html#returning-a-view-versus-a-copy\n",
      "  df_clean['Cluster'] = clusters\n"
     ]
    }
   ],
   "source": [
    "from sklearn.cluster import KMeans\n",
    "from sklearn.preprocessing import LabelEncoder\n",
    "\n",
    "X = df_clean[['TotalPrice', 'Quantity', 'NumTransactions', 'Description']]\n",
    "\n",
    "label_encoder = LabelEncoder()\n",
    "X['Description'] = label_encoder.fit_transform(X['Description'])\n",
    "\n",
    "kmeans = KMeans(n_clusters=5)\n",
    "kmeans.fit(X)\n",
    "\n",
    "clusters = kmeans.predict(X)\n",
    "\n",
    "df_clean['Cluster'] = clusters"
   ]
  },
  {
   "cell_type": "code",
   "execution_count": 43,
   "id": "1fa7208b",
   "metadata": {
    "execution": {
     "iopub.execute_input": "2023-01-25T09:41:29.618969Z",
     "iopub.status.busy": "2023-01-25T09:41:29.618581Z",
     "iopub.status.idle": "2023-01-25T09:41:29.630892Z",
     "shell.execute_reply": "2023-01-25T09:41:29.630026Z"
    },
    "papermill": {
     "duration": 0.041698,
     "end_time": "2023-01-25T09:41:29.633036",
     "exception": false,
     "start_time": "2023-01-25T09:41:29.591338",
     "status": "completed"
    },
    "scrolled": true,
    "tags": []
   },
   "outputs": [
    {
     "data": {
      "text/plain": [
       "0    115096\n",
       "2    104487\n",
       "3     96530\n",
       "1     81809\n",
       "4         2\n",
       "Name: Cluster, dtype: int64"
      ]
     },
     "execution_count": 43,
     "metadata": {},
     "output_type": "execute_result"
    }
   ],
   "source": [
    "df_clean['Cluster'].value_counts()"
   ]
  },
  {
   "cell_type": "markdown",
   "id": "4e9b0254",
   "metadata": {
    "papermill": {
     "duration": 0.02589,
     "end_time": "2023-01-25T09:41:29.685096",
     "exception": false,
     "start_time": "2023-01-25T09:41:29.659206",
     "status": "completed"
    },
    "tags": []
   },
   "source": [
    "Algoritme ini menggunakan informasi tentang perilaku pembelian pelanggan sebelumnya untuk mengidentifikasi pelanggan serupa dan merekomendasikan produk yang telah dibeli pelanggan ini di masa lalu. Mari buat kerangka data cluster_df dan lihat apa yang dikatakan data kita."
   ]
  },
  {
   "cell_type": "code",
   "execution_count": 44,
   "id": "0327b7a5",
   "metadata": {
    "execution": {
     "iopub.execute_input": "2023-01-25T09:41:29.739829Z",
     "iopub.status.busy": "2023-01-25T09:41:29.739417Z",
     "iopub.status.idle": "2023-01-25T09:41:30.698494Z",
     "shell.execute_reply": "2023-01-25T09:41:30.697364Z"
    },
    "papermill": {
     "duration": 0.989642,
     "end_time": "2023-01-25T09:41:30.701156",
     "exception": false,
     "start_time": "2023-01-25T09:41:29.711514",
     "status": "completed"
    },
    "scrolled": true,
    "tags": []
   },
   "outputs": [
    {
     "data": {
      "image/png": "[encoded data removed]",
      "text/plain": [
       "<Figure size 432x288 with 1 Axes>"
      ]
     },
     "metadata": {},
     "output_type": "display_data"
    },
    {
     "data": {
      "image/png": "[encoded data removed]",
      "text/plain": [
       "<Figure size 432x288 with 1 Axes>"
      ]
     },
     "metadata": {},
     "output_type": "display_data"
    },
    {
     "data": {
      "image/png": "[encoded data removed]",
      "text/plain": [
       "<Figure size 432x288 with 1 Axes>"
      ]
     },
     "metadata": {},
     "output_type": "display_data"
    },
    {
     "data": {
      "image/png": "[encoded data removed]",
      "text/plain": [
       "<Figure size 432x288 with 1 Axes>"
      ]
     },
     "metadata": {},
     "output_type": "display_data"
    }
   ],
   "source": [
    "# Pertama, kita akan membuat dataframe baru bernama 'cluster_df' yang berisi kolom TotalPrice, Quantity, dan NumTransactions untuk setiap cluster\n",
    "cluster_df = df_clean[['TotalPrice', 'Quantity', 'NumTransactions', 'Cluster']]\n",
    "\n",
    "# Pertama, kita akan mengimpor library yang diperlukan\n",
    "import matplotlib.pyplot as plt\n",
    "import seaborn as sns\n",
    "\n",
    "# Selanjutnya, kita akan membuat diagram batang yang menunjukkan jumlah titik data di setiap cluster\n",
    "sns.countplot(x='Cluster', data=df_clean)\n",
    "plt.show()\n",
    "\n",
    "# Sekarang, kita akan membuat boxplot yang membandingkan distribusi harga total, kuantitas, dan jumlah transaksi untuk setiap cluster\n",
    "sns.boxplot(x='Cluster', y='TotalPrice', data=df_clean)\n",
    "plt.show()\n",
    "sns.boxplot(x='Cluster', y='Quantity', data=df_clean)\n",
    "plt.show()\n",
    "sns.boxplot(x='Cluster', y='NumTransactions', data=df_clean)\n",
    "plt.show()\n"
   ]
  },
  {
   "cell_type": "markdown",
   "id": "7f005eaf",
   "metadata": {
    "papermill": {
     "duration": 0.031193,
     "end_time": "2023-01-25T09:41:30.760222",
     "exception": false,
     "start_time": "2023-01-25T09:41:30.729029",
     "status": "completed"
    },
    "tags": []
   },
   "source": [
    "Bagan batang menunjukkan jumlah titik data di setiap cluster dan boxplot membandingkan distribusi total harga, kuantitas, dan jumlah transaksi untuk setiap cluster."
   ]
  },
  {
   "cell_type": "code",
   "execution_count": 45,
   "id": "a8be310b",
   "metadata": {
    "execution": {
     "iopub.execute_input": "2023-01-25T09:41:30.817343Z",
     "iopub.status.busy": "2023-01-25T09:41:30.816968Z",
     "iopub.status.idle": "2023-01-25T09:41:30.850011Z",
     "shell.execute_reply": "2023-01-25T09:41:30.849202Z"
    },
    "papermill": {
     "duration": 0.064083,
     "end_time": "2023-01-25T09:41:30.852274",
     "exception": false,
     "start_time": "2023-01-25T09:41:30.788191",
     "status": "completed"
    },
    "scrolled": true,
    "tags": []
   },
   "outputs": [
    {
     "name": "stderr",
     "output_type": "stream",
     "text": [
      "C:\\Users\\Dell\\AppData\\Local\\Temp\\ipykernel_9972\\449934168.py:2: SettingWithCopyWarning: \n",
      "A value is trying to be set on a copy of a slice from a DataFrame.\n",
      "Try using .loc[row_indexer,col_indexer] = value instead\n",
      "\n",
      "See the caveats in the documentation: https://pandas.pydata.org/pandas-docs/stable/user_guide/indexing.html#returning-a-view-versus-a-copy\n",
      "  df_clean['AvgTransactionValue'] = df_clean.groupby('CustomerID')['TotalPrice'].transform('mean')\n",
      "C:\\Users\\Dell\\AppData\\Local\\Temp\\ipykernel_9972\\449934168.py:5: SettingWithCopyWarning: \n",
      "A value is trying to be set on a copy of a slice from a DataFrame.\n",
      "Try using .loc[row_indexer,col_indexer] = value instead\n",
      "\n",
      "See the caveats in the documentation: https://pandas.pydata.org/pandas-docs/stable/user_guide/indexing.html#returning-a-view-versus-a-copy\n",
      "  df_clean['TotalNumPurchases'] = df_clean.groupby('CustomerID')['TotalPrice'].transform('count')\n"
     ]
    }
   ],
   "source": [
    "# Sekarang, kami akan membuat fitur baru bernama 'AvgTransactionValue' yang mewakili nilai transaksi rata-rata untuk setiap pelanggan\n",
    "df_clean['AvgTransactionValue'] = df_clean.groupby('CustomerID')['TotalPrice'].transform('mean')\n",
    "\n",
    "# Selanjutnya, kami akan membuat fitur baru yang disebut 'TotalNumPurchases' yang mewakili jumlah total pembelian yang dilakukan setiap pelanggan\n",
    "df_clean['TotalNumPurchases'] = df_clean.groupby('CustomerID')['TotalPrice'].transform('count')"
   ]
  },
  {
   "cell_type": "markdown",
   "id": "e302a8f3",
   "metadata": {
    "papermill": {
     "duration": 0.02734,
     "end_time": "2023-01-25T09:41:30.907279",
     "exception": false,
     "start_time": "2023-01-25T09:41:30.879939",
     "status": "completed"
    },
    "tags": []
   },
   "source": [
    "**15. Bisakah kita mengidentifikasi tren atau pola dalam data yang menunjukkan peluang untuk peningkatan proses atau penghematan biaya, seperti mengidentifikasi kemacetan atau inefisiensi dalam proses pemenuhan?**"
   ]
  },
  {
   "cell_type": "code",
   "execution_count": 46,
   "id": "b96e147a",
   "metadata": {
    "execution": {
     "iopub.execute_input": "2023-01-25T09:41:30.964048Z",
     "iopub.status.busy": "2023-01-25T09:41:30.963628Z",
     "iopub.status.idle": "2023-01-25T09:43:20.425061Z",
     "shell.execute_reply": "2023-01-25T09:43:20.423874Z"
    },
    "papermill": {
     "duration": 109.519815,
     "end_time": "2023-01-25T09:43:20.454668",
     "exception": false,
     "start_time": "2023-01-25T09:41:30.934853",
     "status": "completed"
    },
    "scrolled": true,
    "tags": []
   },
   "outputs": [
    {
     "name": "stderr",
     "output_type": "stream",
     "text": [
      "C:\\Users\\Dell\\AppData\\Local\\Temp\\ipykernel_9972\\2386422121.py:10: SettingWithCopyWarning: \n",
      "A value is trying to be set on a copy of a slice from a DataFrame.\n",
      "Try using .loc[row_indexer,col_indexer] = value instead\n",
      "\n",
      "See the caveats in the documentation: https://pandas.pydata.org/pandas-docs/stable/user_guide/indexing.html#returning-a-view-versus-a-copy\n",
      "  X['Description'] = label_encoder.fit_transform(X['Description'])\n",
      "C:\\Users\\Dell\\AppData\\Local\\Temp\\ipykernel_9972\\2386422121.py:13: SettingWithCopyWarning: \n",
      "A value is trying to be set on a copy of a slice from a DataFrame.\n",
      "Try using .loc[row_indexer,col_indexer] = value instead\n",
      "\n",
      "See the caveats in the documentation: https://pandas.pydata.org/pandas-docs/stable/user_guide/indexing.html#returning-a-view-versus-a-copy\n",
      "  df_clean['InvoiceMonth'] = pd.DatetimeIndex(df_clean['InvoiceDate']).month\n",
      "C:\\Users\\Dell\\AppData\\Local\\Temp\\ipykernel_9972\\2386422121.py:14: SettingWithCopyWarning: \n",
      "A value is trying to be set on a copy of a slice from a DataFrame.\n",
      "Try using .loc[row_indexer,col_indexer] = value instead\n",
      "\n",
      "See the caveats in the documentation: https://pandas.pydata.org/pandas-docs/stable/user_guide/indexing.html#returning-a-view-versus-a-copy\n",
      "  X['InvoiceMonth'] = df_clean['InvoiceMonth']\n"
     ]
    },
    {
     "name": "stdout",
     "output_type": "stream",
     "text": [
      "Feature Importances: [9.99421272e-01 3.52477322e-04 2.08342644e-09 5.68477975e-05\n",
      " 4.50263828e-05 2.07881888e-05 7.45959465e-05 2.89901697e-05]\n"
     ]
    }
   ],
   "source": [
    "# Pertama, kita akan mengimpor library yang diperlukan\n",
    "from sklearn.preprocessing import StandardScaler\n",
    "from sklearn.ensemble import RandomForestRegressor\n",
    "\n",
    "# Selanjutnya, kita akan membuat dataframe baru bernama 'X' yang berisi fitur yang ingin kita gunakan untuk memprediksi total penjualan\n",
    "X = df_clean[['TotalPrice', 'Quantity', 'NumTransactions', 'Description', 'AvgTransactionValue', 'TotalNumPurchases', 'Cluster']]\n",
    "\n",
    "# Sekarang, kita akan menggunakan LabelEncoder untuk mengonversi nilai string di kolom 'Deskripsi' menjadi nilai numerik\n",
    "label_encoder = LabelEncoder()\n",
    "X['Description'] = label_encoder.fit_transform(X['Description'])\n",
    "\n",
    "# Selanjutnya, kami akan mengekstrak bulan dari kolom 'Tanggal Tagihan' dan menambahkannya sebagai fitur baru\n",
    "df_clean['InvoiceMonth'] = pd.DatetimeIndex(df_clean['InvoiceDate']).month\n",
    "X['InvoiceMonth'] = df_clean['InvoiceMonth']\n",
    "\n",
    "# Selanjutnya, kita akan menskalakan fitur menggunakan StandardScaler\n",
    "scaler = StandardScaler()\n",
    "X = scaler.fit_transform(X)\n",
    "\n",
    "# Sekarang, kita akan membuat kerangka dataframe bernama 'y' yang berisi variabel target (yaitu, total penjualan)\n",
    "y = df_clean['TotalPrice']\n",
    "\n",
    "# Selanjutnya, kita akan membagi data menjadi satu set pelatihan dan satu set pengujian\n",
    "X_train, X_test, y_train, y_test = train_test_split(X, y, test_size=0.2)\n",
    "\n",
    "# Selanjutnya, kita akan melatih regressor hutan acak pada data pelatihan\n",
    "regressor = RandomForestRegressor()\n",
    "regressor.fit(X_train, y_train)\n",
    "\n",
    "# Sekarang, kami akan membuat prediksi pada data uji\n",
    "y_pred = regressor.predict(X_test)\n",
    "\n",
    "# Terakhir, kita dapat menggunakan prediksi untuk mengidentifikasi tren atau pola dalam data yang menunjukkan peluang untuk perbaikan proses atau penghematan biaya\n",
    "# Sebagai contoh, kita dapat melihat fitur yang paling penting (yaitu, TotalPrice, Quantity, NumTransactions, Description, AvgTransactionValue, TotalNumPurchases, Cluster, dan InvoiceMonth) menurut model\n",
    "importances = regressor.feature_importances_\n",
    "print('Feature Importances:', importances)"
   ]
  },
  {
   "cell_type": "code",
   "execution_count": 48,
   "id": "f351af85",
   "metadata": {
    "scrolled": true
   },
   "outputs": [
    {
     "name": "stdout",
     "output_type": "stream",
     "text": [
      "Collecting statsmodels\n",
      "  Downloading statsmodels-0.13.5-cp39-cp39-win_amd64.whl (9.2 MB)\n",
      "Collecting patsy>=0.5.2\n",
      "  Downloading patsy-0.5.3-py2.py3-none-any.whl (233 kB)\n",
      "Requirement already satisfied: numpy>=1.17 in c:\\users\\dell\\anaconda3\\envs\\plot\\lib\\site-packages (from statsmodels) (1.21.5)\n",
      "Requirement already satisfied: packaging>=21.3 in c:\\users\\dell\\anaconda3\\envs\\plot\\lib\\site-packages (from statsmodels) (21.3)\n",
      "Requirement already satisfied: scipy>=1.3 in c:\\users\\dell\\anaconda3\\envs\\plot\\lib\\site-packages (from statsmodels) (1.8.0)\n",
      "Requirement already satisfied: pandas>=0.25 in c:\\users\\dell\\anaconda3\\envs\\plot\\lib\\site-packages (from statsmodels) (1.4.1)\n",
      "Requirement already satisfied: pyparsing!=3.0.5,>=2.0.2 in c:\\users\\dell\\anaconda3\\envs\\plot\\lib\\site-packages (from packaging>=21.3->statsmodels) (3.0.4)\n",
      "Requirement already satisfied: python-dateutil>=2.8.1 in c:\\users\\dell\\anaconda3\\envs\\plot\\lib\\site-packages (from pandas>=0.25->statsmodels) (2.8.2)\n",
      "Requirement already satisfied: pytz>=2020.1 in c:\\users\\dell\\anaconda3\\envs\\plot\\lib\\site-packages (from pandas>=0.25->statsmodels) (2021.3)\n",
      "Requirement already satisfied: six in c:\\users\\dell\\anaconda3\\envs\\plot\\lib\\site-packages (from patsy>=0.5.2->statsmodels) (1.16.0)\n",
      "Installing collected packages: patsy, statsmodels\n",
      "Successfully installed patsy-0.5.3 statsmodels-0.13.5\n",
      "Note: you may need to restart the kernel to use updated packages.\n"
     ]
    }
   ],
   "source": [
    " !pip install statsmodels "
   ]
  },
  {
   "cell_type": "markdown",
   "id": "388ed463",
   "metadata": {
    "papermill": {
     "duration": 0.027319,
     "end_time": "2023-01-25T09:43:20.510021",
     "exception": false,
     "start_time": "2023-01-25T09:43:20.482702",
     "status": "completed"
    },
    "tags": []
   },
   "source": [
    "Ini berarti bahwa fitur 'TotalPrice' memiliki kepentingan tertinggi dalam memprediksi variabel target, diikuti oleh 'AvgTransactionValue', 'Quantity', 'InvoiceMonth', 'TotalNumPurchases', 'Description', 'Cluster', dan 'NumTransactions', berturut-turut .\n",
    "\n",
    "Hal ini menunjukkan bahwa total harga suatu produk adalah faktor yang paling penting dalam menentukan apakah pelanggan cenderung menjual atau menjual silang, diikuti oleh nilai transaksi rata-rata, jumlah produk yang dibeli, bulan faktur terkait pengiriman, total jumlah pembelian, deskripsi produk, cluster milik pelanggan, dan jumlah transaksi.\n",
    "\n",
    "Menganalisis informasi ini dapat memberi kita pemahaman lebih lanjut tentang bagaimana kita dapat mengidentifikasi tren atau pola dalam data yang menunjukkan peluang untuk perbaikan proses atau penghematan biaya sehubungan dengan pemasaran yang ditargetkan."
   ]
  },
  {
   "cell_type": "markdown",
   "id": "413d8b42",
   "metadata": {
    "papermill": {
     "duration": 0.027392,
     "end_time": "2023-01-25T09:43:20.565079",
     "exception": false,
     "start_time": "2023-01-25T09:43:20.537687",
     "status": "completed"
    },
    "tags": []
   },
   "source": [
    "**16. Apakah ada segmen produk atau pelanggan yang sangat menguntungkan atau tidak menguntungkan, dan bagaimana informasi ini dapat digunakan untuk mengoptimalkan penetapan harga atau manajemen inventaris?**"
   ]
  },
  {
   "cell_type": "code",
   "execution_count": 49,
   "id": "21f4b222",
   "metadata": {
    "execution": {
     "iopub.execute_input": "2023-01-25T09:43:20.622563Z",
     "iopub.status.busy": "2023-01-25T09:43:20.622144Z",
     "iopub.status.idle": "2023-01-25T09:43:21.599789Z",
     "shell.execute_reply": "2023-01-25T09:43:21.598872Z"
    },
    "papermill": {
     "duration": 1.008754,
     "end_time": "2023-01-25T09:43:21.601911",
     "exception": false,
     "start_time": "2023-01-25T09:43:20.593157",
     "status": "completed"
    },
    "scrolled": true,
    "tags": []
   },
   "outputs": [
    {
     "name": "stderr",
     "output_type": "stream",
     "text": [
      "C:\\Users\\Dell\\AppData\\Local\\Temp\\ipykernel_9972\\2686329307.py:10: SettingWithCopyWarning: \n",
      "A value is trying to be set on a copy of a slice from a DataFrame.\n",
      "Try using .loc[row_indexer,col_indexer] = value instead\n",
      "\n",
      "See the caveats in the documentation: https://pandas.pydata.org/pandas-docs/stable/user_guide/indexing.html#returning-a-view-versus-a-copy\n",
      "  df_time['InvoiceDate'] = pd.to_datetime(df_time['InvoiceDate'])\n"
     ]
    },
    {
     "data": {
      "image/png": "[encoded data removed]",
      "text/plain": [
       "<Figure size 432x288 with 1 Axes>"
      ]
     },
     "metadata": {},
     "output_type": "display_data"
    }
   ],
   "source": [
    "# Pertama, kita akan mengimpor library yang diperlukan\n",
    "from sklearn.preprocessing import StandardScaler\n",
    "from sklearn.decomposition import PCA\n",
    "import statsmodels.api as sm\n",
    "\n",
    "# Selanjutnya, kita akan membuat kerangka data baru bernama 'df_time' yang hanya berisi kolom 'InvoiceDate' dan 'TotalPrice'\n",
    "df_time = df_clean[['InvoiceDate', 'TotalPrice']]\n",
    "\n",
    "# Sekarang, kita akan mengonversi kolom 'InvoiceDate' menjadi tipe data datetime dan menetapkannya sebagai indeks kerangka data\n",
    "df_time['InvoiceDate'] = pd.to_datetime(df_time['InvoiceDate'])\n",
    "df_time.set_index('InvoiceDate', inplace=True)\n",
    "\n",
    "# Selanjutnya, kita akan mengambil sampel ulang data berdasarkan bulan dan menjumlahkan total harga setiap bulan\n",
    "df_monthly = df_time.resample('M').sum()\n",
    "\n",
    "# Sekarang, kita akan menggunakan StandardScaler untuk mengubah kolom 'TotalPrice'\n",
    "scaler = StandardScaler()\n",
    "df_monthly['TotalPrice'] = scaler.fit_transform(df_monthly[['TotalPrice']])\n",
    "\n",
    "# Selanjutnya, kita akan menggunakan PCA untuk mengurangi dimensi data\n",
    "pca = PCA(n_components=1)\n",
    "df_monthly['TotalPrice'] = pca.fit_transform(df_monthly[['TotalPrice']])\n",
    "\n",
    "# Sekarang, kita akan menggunakan library statsmodels untuk mencocokkan model dekomposisi musiman dengan 1 periode (12 bulan)\n",
    "model = sm.tsa.seasonal_decompose(df_monthly, model='additive', period=1)\n",
    "\n",
    "# Terakhir, kita akan memplot tren, musiman, dan komponen sisa untuk melihat bagaimana mereka bervariasi dari waktu ke waktu\n",
    "model.trend.plot()\n",
    "model.seasonal.plot()\n",
    "model.resid.plot()\n",
    "plt.show()"
   ]
  },
  {
   "cell_type": "markdown",
   "id": "ae94ae91",
   "metadata": {
    "papermill": {
     "duration": 0.02852,
     "end_time": "2023-01-25T09:43:21.658755",
     "exception": false,
     "start_time": "2023-01-25T09:43:21.630235",
     "status": "completed"
    },
    "tags": []
   },
   "source": [
    "* Kerangka data df_monthly berisi total bulanan dari variabel TotalPrice. Fungsi seasonal_decompose menguraikan deret waktu menjadi komponen tren, musiman, dan residualnya.\n",
    "\n",
    "* Tren merepresentasikan arah jangka panjang dari deret waktu, komponen musiman merepresentasikan fluktuasi periodik dalam deret waktu, dan sisanya merepresentasikan variasi yang tidak dapat diprediksi dalam deret waktu.\n",
    "\n",
    "* Fungsi seasonal_decompose memplot tren, musiman, dan komponen sisa pada grafik terpisah. Dengan menganalisis komponen-komponen ini, kita dapat memperoleh wawasan tentang pola dan tren yang mendasari data deret waktu.\n",
    "\n",
    "**NB:** Fungsi seasonal_decompose ditujukan untuk set data yang berisi setidaknya 2 siklus penuh (24 bulan) agar dapat melihat tren dan pola dengan sempurna. Data kami hanya berisi transaksi selama 13 bulan."
   ]
  },
  {
   "cell_type": "markdown",
   "id": "1c7000f7",
   "metadata": {
    "papermill": {
     "duration": 0.027768,
     "end_time": "2023-01-25T09:43:21.714510",
     "exception": false,
     "start_time": "2023-01-25T09:43:21.686742",
     "status": "completed"
    },
    "tags": []
   },
   "source": [
    "**17. Dapatkah kami menganalisis jumlah pesanan yang dibatalkan dan mengidentifikasi potensi penyebab atau faktor yang mungkin berkontribusi terhadap pembatalan tersebut?**"
   ]
  },
  {
   "cell_type": "code",
   "execution_count": 50,
   "id": "e0237b58",
   "metadata": {
    "execution": {
     "iopub.execute_input": "2023-01-25T09:43:21.774017Z",
     "iopub.status.busy": "2023-01-25T09:43:21.772948Z",
     "iopub.status.idle": "2023-01-25T09:43:24.691348Z",
     "shell.execute_reply": "2023-01-25T09:43:24.689921Z"
    },
    "papermill": {
     "duration": 2.950636,
     "end_time": "2023-01-25T09:43:24.693648",
     "exception": false,
     "start_time": "2023-01-25T09:43:21.743012",
     "status": "completed"
    },
    "scrolled": true,
    "tags": []
   },
   "outputs": [
    {
     "name": "stderr",
     "output_type": "stream",
     "text": [
      "C:\\Users\\Dell\\AppData\\Local\\Temp\\ipykernel_9972\\2535947683.py:5: SettingWithCopyWarning: \n",
      "A value is trying to be set on a copy of a slice from a DataFrame.\n",
      "Try using .loc[row_indexer,col_indexer] = value instead\n",
      "\n",
      "See the caveats in the documentation: https://pandas.pydata.org/pandas-docs/stable/user_guide/indexing.html#returning-a-view-versus-a-copy\n",
      "  df_cancellations['Cancelled'] = df_cancellations['InvoiceNo'].str.contains('C')\n",
      "C:\\Users\\Dell\\AppData\\Local\\Temp\\ipykernel_9972\\2535947683.py:8: SettingWithCopyWarning: \n",
      "A value is trying to be set on a copy of a slice from a DataFrame.\n",
      "Try using .loc[row_indexer,col_indexer] = value instead\n",
      "\n",
      "See the caveats in the documentation: https://pandas.pydata.org/pandas-docs/stable/user_guide/indexing.html#returning-a-view-versus-a-copy\n",
      "  df_cancellations['InvoiceDate'] = pd.to_datetime(df_cancellations['InvoiceDate'])\n"
     ]
    },
    {
     "name": "stdout",
     "output_type": "stream",
     "text": [
      "             Cancelled\n",
      "InvoiceDate           \n",
      "2010-12-31         690\n",
      "2011-01-31         680\n",
      "2011-02-28         435\n",
      "2011-03-31         645\n",
      "2011-04-30         554\n",
      "2011-05-31         586\n",
      "2011-06-30         651\n",
      "2011-07-31         675\n",
      "2011-08-31         649\n",
      "2011-09-30         792\n",
      "2011-10-31        1138\n",
      "2011-11-30        1053\n",
      "2011-12-31         357\n"
     ]
    },
    {
     "data": {
      "image/png": "[encoded data removed]",
      "text/plain": [
       "<Figure size 432x288 with 1 Axes>"
      ]
     },
     "metadata": {},
     "output_type": "display_data"
    },
    {
     "name": "stderr",
     "output_type": "stream",
     "text": [
      "C:\\Users\\Dell\\AppData\\Local\\Temp\\ipykernel_9972\\2535947683.py:21: SettingWithCopyWarning: \n",
      "A value is trying to be set on a copy of a slice from a DataFrame.\n",
      "Try using .loc[row_indexer,col_indexer] = value instead\n",
      "\n",
      "See the caveats in the documentation: https://pandas.pydata.org/pandas-docs/stable/user_guide/indexing.html#returning-a-view-versus-a-copy\n",
      "  df_products['Cancelled'] = df_products['InvoiceNo'].str.contains('C')\n"
     ]
    },
    {
     "name": "stdout",
     "output_type": "stream",
     "text": [
      "REGENCY CAKESTAND 3 TIER              181\n",
      "Manual                                175\n",
      "POSTAGE                                97\n",
      "JAM MAKING SET WITH JARS               86\n",
      "Discount                               77\n",
      "SET OF 3 CAKE TINS PANTRY DESIGN       73\n",
      "STRAWBERRY CERAMIC TRINKET BOX         55\n",
      "ROSES REGENCY TEACUP AND SAUCER        53\n",
      "RECIPE BOX PANTRY YELLOW DESIGN        47\n",
      "WOOD 2 DRAWER CABINET WHITE FINISH     45\n",
      "Name: Description, dtype: int64\n",
      "           TotalPrice   Quantity\n",
      "Cancelled                       \n",
      "False       22.394749  13.021823\n",
      "True       -68.651554 -30.859966\n"
     ]
    },
    {
     "name": "stderr",
     "output_type": "stream",
     "text": [
      "C:\\Users\\Dell\\AppData\\Local\\Temp\\ipykernel_9972\\2535947683.py:27: SettingWithCopyWarning: \n",
      "A value is trying to be set on a copy of a slice from a DataFrame.\n",
      "Try using .loc[row_indexer,col_indexer] = value instead\n",
      "\n",
      "See the caveats in the documentation: https://pandas.pydata.org/pandas-docs/stable/user_guide/indexing.html#returning-a-view-versus-a-copy\n",
      "  df_mean['Cancelled'] = df_mean['InvoiceNo'].str.contains('C')\n"
     ]
    }
   ],
   "source": [
    "# Pertama, kita akan membuat kerangka data baru yang hanya berisi kolom 'InvoiceNo' dan 'InvoiceDate'\n",
    "df_cancellations = df[['InvoiceNo', 'InvoiceDate']]\n",
    "\n",
    "# Selanjutnya, kami akan membuat kolom baru bernama 'Dibatalkan' yang menunjukkan apakah faktur dibatalkan\n",
    "df_cancellations['Cancelled'] = df_cancellations['InvoiceNo'].str.contains('C')\n",
    "\n",
    "# Sekarang, kita akan mengonversi kolom 'InvoiceDate' menjadi tipe data datetime dan menetapkannya sebagai indeks dari dataframe\n",
    "df_cancellations['InvoiceDate'] = pd.to_datetime(df_cancellations['InvoiceDate'])\n",
    "df_cancellations.set_index('InvoiceDate', inplace=True)\n",
    "\n",
    "# Selanjutnya, kami akan mengelompokkan data berdasarkan bulan dan menghitung jumlah pembatalan setiap bulan\n",
    "df_cancellations = df_cancellations.groupby(pd.Grouper(freq='M')).sum()\n",
    "\n",
    "# Sekarang, kami dapat memplot jumlah pembatalan dari waktu ke waktu untuk melihat apakah ada tren atau pola\n",
    "print(df_cancellations)\n",
    "df_cancellations['Cancelled'].plot(kind='barh')\n",
    "plt.show()\n",
    "\n",
    "# Kita juga bisa menggunakan metode 'value_counts' untuk melihat produk mana yang paling sering dibatalkan\n",
    "df_products = df[['Description', 'InvoiceNo']]\n",
    "df_products['Cancelled'] = df_products['InvoiceNo'].str.contains('C')\n",
    "df_products = df_products[df_products['Cancelled'] == True]\n",
    "print((df_products['Description'].value_counts()).head(10))\n",
    "\n",
    "# Terakhir, kita dapat menggunakan metode 'groupby' dan 'mean' untuk melihat apakah ada perbedaan rata-rata harga total atau jumlah pesanan yang dibatalkan dibandingkan dengan pesanan yang tidak dibatalkan\n",
    "df_mean = df[['TotalPrice', 'Quantity', 'InvoiceNo']]\n",
    "df_mean['Cancelled'] = df_mean['InvoiceNo'].str.contains('C')\n",
    "df_mean = df_mean.groupby('Cancelled').mean()\n",
    "print(df_mean)"
   ]
  },
  {
   "cell_type": "markdown",
   "id": "3638be4b",
   "metadata": {
    "papermill": {
     "duration": 0.029241,
     "end_time": "2023-01-25T09:43:24.752471",
     "exception": false,
     "start_time": "2023-01-25T09:43:24.723230",
     "status": "completed"
    },
    "tags": []
   },
   "source": [
    "Di sini, kita bisa melihat berapa banyak pembatalan per bulan yang kita miliki di dataset, deskripsi produk yang dibatalkan, harga total rata-rata dan jumlah pembatalan."
   ]
  },
  {
   "cell_type": "markdown",
   "id": "3c63eea0",
   "metadata": {
    "papermill": {
     "duration": 0.029219,
     "end_time": "2023-01-25T09:43:24.811432",
     "exception": false,
     "start_time": "2023-01-25T09:43:24.782213",
     "status": "completed"
    },
    "tags": []
   },
   "source": [
    "#### **Rekomendasi** <a class=\"anchor\" id=\"r\"></a>\n",
    "\n",
    "<br>\n",
    "\n",
    "Berdasarkan analisis yang kami lakukan pada dataset transaksi ecommerce ini, kami telah dapat mengidentifikasi beberapa tren dan pola yang mungkin berguna untuk mengoptimalkan rekomendasi produk, mengidentifikasi peluang untuk upselling atau cross-selling, meningkatkan proses dan penghematan biaya, serta mengidentifikasi peluang untuk inovasi dan perluasan produk atau proses.\n",
    "\n",
    "Beberapa rekomendasi khusus yang dapat dibuat berdasarkan temuan analisis ini antara lain:\n",
    "\n",
    "* Kami dapat menggunakan hasil model pembelajaran mesin untuk mengidentifikasi pelanggan yang cenderung membeli produk terkait dan menargetkan mereka dengan rekomendasi produk yang dipersonalisasi atau penawaran bundel.\n",
    "\n",
    "* Menerapkan perbaikan proses atau langkah-langkah penghematan biaya berdasarkan hasil model regresi, yang mengidentifikasi fitur-fitur penting seperti kuantitas dan jumlah transaksi yang mungkin menjadi indikasi hambatan atau inefisiensi dalam proses pemenuhan.\n",
    "\n",
    "* Kita dapat menggunakan hasil analisis peramalan pengelompokan dan deret waktu untuk mengidentifikasi tren atau pola yang mungkin menunjukkan peluang untuk inovasi produk atau proses, seperti mengidentifikasi ide produk baru atau cara untuk merampingkan proses pemenuhan.\n",
    "\n",
    "* Kami dapat mempertimbangkan untuk memperluas atau mendiversifikasi penawaran produk ke 10 negara teratas yang diidentifikasi dalam analisis, karena negara-negara tersebut telah menunjukkan total penjualan tertinggi.\n",
    "\n",
    "* Terakhir, kami dapat memantau jumlah pesanan yang dibatalkan dan mengidentifikasi potensi penyebab atau faktor yang mungkin berkontribusi terhadap pembatalan tersebut.\n",
    "\n",
    "Secara keseluruhan, analisis ini telah memberikan wawasan berharga yang dapat digunakan untuk mengoptimalkan operasi bisnis dan mendorong pertumbuhan perusahaan."
   ]
  }
 ],
 "metadata": {
  "kernelspec": {
   "display_name": "Python 3 (ipykernel)",
   "language": "python",
   "name": "python3"
  },
  "language_info": {
   "codemirror_mode": {
    "name": "ipython",
    "version": 3
   },
   "file_extension": ".py",
   "mimetype": "text/x-python",
   "name": "python",
   "nbconvert_exporter": "python",
   "pygments_lexer": "ipython3",
   "version": "3.9.7"
  },
  "papermill": {
   "default_parameters": {},
   "duration": 185.33881,
   "end_time": "2023-01-25T09:43:25.764005",
   "environment_variables": {},
   "exception": null,
   "input_path": "__notebook__.ipynb",
   "output_path": "__notebook__.ipynb",
   "parameters": {},
   "start_time": "2023-01-25T09:40:20.425195",
   "version": "2.3.4"
  }
 },
 "nbformat": 4,
 "nbformat_minor": 5
}
